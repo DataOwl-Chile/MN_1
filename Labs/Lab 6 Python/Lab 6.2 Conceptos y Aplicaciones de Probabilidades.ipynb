{
 "cells": [
  {
   "cell_type": "markdown",
   "metadata": {},
   "source": [
    "<p><img alt=\"DataOwl\" width=150 src=\"http://gwsolutions.cl/Images/dataowl.png\", align=\"left\", hspace=0, vspace=5></p>\n",
    "\n",
    "<h1 align=\"center\">Probabilidades</h1>\n",
    "\n",
    "<h4 align=\"center\">Concepto de integral definida y Métodos Monte-Carlo</h4>\n",
    "<pre><div align=\"center\"> La idea de este notebook es que sirva para iniciarse en conceptos\n",
    "básicos del Probabilidades, Cálculo Integral y los métodos disponibles\n",
    "para la generación de datos pseudo-aleatorios.</div>"
   ]
  },
  {
   "cell_type": "markdown",
   "metadata": {},
   "source": [
    "## Probabilidades\n",
    "\n",
    "## 6. Momentos de una distribución\n",
    "\n",
    "En principio, dado un estudio en el cual haya información recolectada, podríamos no saber muy bien qué tipos de distribución siguen nuestros datos. Sin embargo, si tenemos una idea de cuál podría ser, es posible aproximar los parámetros de los que depende solo viendo el comportamiento gráfico de la distribución. Esto es posible gracias al algunos valores característicos de las distribuciones llamados **momentos**.\n",
    "\n",
    "Los más utilizados son los llamados *primeros momentos*, donde aparecen la esperanza, varianza, asimetría y curtosis, entre otras.\n",
    "\n",
    "### 6.1 Distribuciones discretas\n",
    "\n",
    "Para una variable aleatoria discreta definida sobre un espacio muestral $\\Omega$ con función densidad $f_X$, se define su **esperanza** (*expected value*) como\n",
    "\n",
    "$$\\mathbb{E}[X]=\\sum_{k\\in\\Omega}k\\cdot f_X(k)=\\mu$$\n",
    "\n",
    "Ésta se interpreta como el valor que se espera obtener la mayor cantidad de veces en un experimento realizado de forma sucesiva *ad infinitum*.\n",
    "\n",
    "Se define la **varianza** (*variance*) como\n",
    "\n",
    "$$\\mathbb{E}[(X-\\mu)^2]=\\sum_{k\\in\\Omega}(k-\\mu)^2\\cdot f_X(k)=\\mathbb{E}[X^2]-\\mu^2=\\sigma^2$$\n",
    "\n",
    "y se interpreta como el grado de dispersión que se espera tener de los datos, es decir, qué tan \"repartidos\" están los resultados.\n",
    "\n",
    "Se define la **asimetría** (*skewness*) como\n",
    "\n",
    "$$\\mathbb{E}\\left[\\left(\\frac{X-\\mu}{\\sigma}\\right)^3\\right]=\\sum_{k\\in\\Omega} \\left(\\frac{k-\\mu}{\\sigma}\\right)^3\\cdot f_X(k)=\\frac{\\mathbb{E}\\left[X^3\\right]-3\\mu\\sigma^2-\\mu^3}{\\sigma^3}=\\gamma$$\n",
    "\n",
    "que puede interpretarse como el grado de distancia entre las regiones con mayor densidad respecto de un eje de simetría, o bien como qué tan \"desbalanceada\" está la función densidad.\n",
    "\n",
    "Finalmente, la **curtosis** (*kurtosis*) como\n",
    "\n",
    "$$\\mathbb{E}\\left[\\left(\\frac{X-\\mu}{\\sigma}\\right)^4\\right]=\\kappa$$\n",
    "\n",
    "y mide la propensión de la distribución a generar datos muy poco frecuentes (*outliers*).\n",
    "\n",
    "Si bien existe una fórmula cerrada para cada uno de estos momentos (y aquellos de orden superior), no es tan frecuente el uso de otros fuera de los listados, entre otras razones ya que las expresiones obtenidas no son muy compactas.\n",
    "\n",
    "Como ejercicio, puede buscar la lista de distribuciones discretas vistas en la clase anterior y obtener una expresión para cada momento.\n"
   ]
  },
  {
   "cell_type": "code",
   "execution_count": 1,
   "metadata": {},
   "outputs": [],
   "source": [
    "# Importando las librerías\n",
    "import matplotlib.colors as mcolors\n",
    "import matplotlib.pyplot as plt\n",
    "import numpy as np\n",
    "\n",
    "# En los siguientes bloques, se evaluará de forma explícita las pdf y CDF dadas, y también se\n",
    "# aproximará mediante muestreos aleatorios para las distribuciones correspondientes"
   ]
  },
  {
   "cell_type": "code",
   "execution_count": null,
   "metadata": {},
   "outputs": [],
   "source": [
    "# Cálculo exacto de esperanza\n",
    "\n",
    "# Cálculo exacto de varianza"
   ]
  },
  {
   "cell_type": "code",
   "execution_count": null,
   "metadata": {},
   "outputs": [],
   "source": [
    "# Estimador insesgado para la esperanza sum(xn)/n\n",
    "\n",
    "# Estimador insesgado para la varianza sum((xn-mu)**2)/(n-1)"
   ]
  },
  {
   "cell_type": "markdown",
   "metadata": {},
   "source": [
    "### 6.2 Distribuciones continuas\n",
    "\n",
    "Similarmente al caso discreto, si se tiene una variable aleatoria continua $X$ definida en un espacio muestral $\\Omega$, podemos definir sus momentos de forma análoga a lo anterior:\n",
    "\n",
    "$$\\mathbb{E}[X]=\\int_{\\Omega}x\\cdot f_X(x)dx=\\mu$$\n",
    "\n",
    "$$\\mathbb{E}[(X-\\mu)^2]=\\int_{\\Omega}(x-\\mu)^2\\cdot f_X(x)dx=\\sigma^2$$\n",
    "\n",
    "$$\\mathbb{E}\\left[\\left(\\frac{X-\\mu}{\\sigma}\\right)^3\\right]=\\int_{\\Omega} \\left(\\frac{x-\\mu}{\\sigma}\\right)^3\\cdot f_X(x)dx=\\gamma$$\n",
    "\n",
    "$$\\mathbb{E}\\left[\\left(\\frac{X-\\mu}{\\sigma}\\right)^4\\right]=\\kappa$$\n",
    "\n",
    "La interpretación en todos los casos es la misma, aunque siempre se debe tener la precaución de hacer la distinción entre la naturaleza discreta y la continua para evitar errores en la lectura de datos.\n",
    "\n",
    "También se propone como ejercicio buscar los momentos de las distribuciones continuas vistas la clase anterior.\n"
   ]
  },
  {
   "cell_type": "code",
   "execution_count": null,
   "metadata": {},
   "outputs": [],
   "source": []
  },
  {
   "cell_type": "code",
   "execution_count": null,
   "metadata": {},
   "outputs": [],
   "source": []
  },
  {
   "cell_type": "markdown",
   "metadata": {},
   "source": [
    "## 7. Teorema del Límite Central\n",
    "\n",
    "Este teorema justifica algunos supuestos que se asumen en ciertos estudios de índole estadístico. A grandes rasgos, establece que un mismo experimento realizado múltiples veces de forma independiente (es decir, que un resultado no debe afectar o verse afectado por otro) tenderá a tener valores promedio cercanos a como se comporta una distribución normal. Por lo tanto, los valores intermedios, tendrán mayor peso estadístico que los valores extremos.\n",
    "\n",
    "Matemáticamente se encuncia como que si se tiene una sucesión de variables aleatorias $\\{X_n\\}_n$ independientes e idénticamente distribuidas (iid), todas con esperanza $\\mu$ y variaza $\\sigma^2$, entonces\n",
    "\n",
    "$$\\mathbb{P}\\left[\\frac{(X_1-\\mu)+(X_2-\\mu)+\\ldots+(X_n-\\mu)}{\\sqrt{n\\sigma^2}}\\le z\\right]=\\Phi(z)$$\n",
    "\n",
    "donde $\\Phi(z)=\\displaystyle\\frac{1}{\\sqrt{2\\pi}}\\int_{-\\infty}^ze^{-\\frac{x^2}{2}}dx$ (distribución normal con media $0$ y varianza $1$)."
   ]
  },
  {
   "cell_type": "code",
   "execution_count": null,
   "metadata": {},
   "outputs": [],
   "source": [
    "import matplotlib.animation as animation"
   ]
  },
  {
   "cell_type": "code",
   "execution_count": null,
   "metadata": {},
   "outputs": [],
   "source": [
    "# muestras\n",
    "n = 2500\n",
    "\n",
    "# muestreo según alguna distribución\n",
    "avg = []\n",
    "for i in range(2,n):\n",
    "    a = np.random.uniform(1,7,i)\n",
    "    avg.append(np.average(a))"
   ]
  },
  {
   "cell_type": "code",
   "execution_count": null,
   "metadata": {},
   "outputs": [],
   "source": [
    "# graficar histograma\n",
    "def clt(current):\n",
    "    \n",
    "    plt.cla()\n",
    "    if current == n: \n",
    "        a.event_source.stop()\n",
    "\n",
    "    plt.hist(avg[0:current], bins=50, edgecolor='k')\n",
    "\n",
    "    plt.gca().set_title('Valor esperado')\n",
    "    plt.gca().set_xlabel('Promedio de experimentos')\n",
    "    plt.gca().set_ylabel('Frecuencia')\n",
    "\n",
    "    plt.annotate('Experimento = {}'.format(current), [3,27])"
   ]
  },
  {
   "cell_type": "code",
   "execution_count": null,
   "metadata": {},
   "outputs": [],
   "source": [
    "fig = plt.figure()\n",
    "a = animation.FuncAnimation(fig, clt, interval=10)"
   ]
  },
  {
   "cell_type": "markdown",
   "metadata": {},
   "source": [
    "## 8. Métodos Monte-Carlo\n",
    "\n",
    "Los métodos Monte-Carlo son algoritmos de diversa índole, cuya heurística incorpora pasos en los que hay grados de incerteza, los que son aprovechados en cada programa para realizar cálculos sin necesidad de establecer relaciones muy complejas.\n",
    "\n",
    "Ejemplos de su uso hay varios, aunque los más populares se encuentran en el análisis de sensibilidad de funciones (una forma indirecta de cálculo de derivada), en el cálculo de integrales numéricas (para conocer áreas, volúmenes, probabilidades) y en la exploración de dominios en general (llamados paseos aleatorios). En esta parte del curso, abordaremos las dos últimas, pues la parte de derivación ya fue vista con otros métodos. Sin embargo, eventualmente haremos referencia al análisis de sensibilidad de modelos.\n",
    "\n",
    "### 8.1 Integración Numérica\n",
    "\n",
    "Supongamos que deseamos conocer el que se encuentra limitada en un dibujo y que éste puede expresarse a través de funciones. Si hacemos \"llover\" puntos sobre este dibujo, una forma muy sencilla de aproximar el área es contar la cantidad de puntos que cayó dentro del dibujo, ignorando los que no. Esto nos da una fórmula bastante sencilla para la aproximación, suponiendo una cantidad robusta de puntos:\n",
    "\n",
    "$$A_{\\textrm{dibujo}}=A_{\\textrm{cuadro}}\\cdot\\frac{|\\textrm{Puntos dentro}|}{|\\textrm{Puntos muestra}|}$$\n",
    "\n",
    "Por lo general, para recoger la muestra de puntos, se suele limitar el contexto en que se encuentra el dibujo y se utiliza distribuciones apropiadas a la figura, aunque siempre es posible utilizar simplemente la distribución uniforme. La ventaja de usar otras distribuciones está en obtener convergencia al resultado real en menor cantidad de tiempo."
   ]
  },
  {
   "cell_type": "code",
   "execution_count": null,
   "metadata": {},
   "outputs": [],
   "source": [
    "# Definir alguna función y graficarla con limites fijos\n",
    "\n"
   ]
  },
  {
   "cell_type": "code",
   "execution_count": null,
   "metadata": {},
   "outputs": [],
   "source": [
    "# Estimar área\n",
    "\n",
    "A_cuadro = (b - a) * (d - c)"
   ]
  },
  {
   "cell_type": "markdown",
   "metadata": {},
   "source": [
    "### 8.2 Paseos Aleatorios\n"
   ]
  },
  {
   "cell_type": "code",
   "execution_count": 285,
   "metadata": {},
   "outputs": [],
   "source": [
    "def uniforme_discreta(k, a, b):\n",
    "    if a <= k <= b:\n",
    "        return 1 / (b + 1 - a)\n",
    "    else:\n",
    "        return 0"
   ]
  },
  {
   "cell_type": "code",
   "execution_count": 286,
   "metadata": {},
   "outputs": [],
   "source": [
    "a = 2\n",
    "b = 8\n",
    "N = 1000\n",
    "\n",
    "x = np.linspace(0, 10, 11)\n",
    "x_real = []\n",
    "\n",
    "for i in x:\n",
    "    x_real.append(uniforme_discreta(i, a, b))\n",
    "\n",
    "x_real = np.asarray(x_real)\n",
    "x_sam = np.floor(np.random.uniform(a, b + 1, N))"
   ]
  },
  {
   "cell_type": "code",
   "execution_count": 287,
   "metadata": {},
   "outputs": [
    {
     "data": {
      "image/png": "[encoded data removed]",
      "text/plain": [
       "<Figure size 864x360 with 1 Axes>"
      ]
     },
     "metadata": {
      "needs_background": "light"
     },
     "output_type": "display_data"
    }
   ],
   "source": [
    "fig = plt.figure(figsize=(12, 5))\n",
    "\n",
    "plt.plot(x, x_real, color='blue', marker='.', markersize=15, linestyle='')\n",
    "plt.hist(x_sam, bins=len(x) + 2, weights=(1 / N) * np.ones(x_sam.shape), color='silver', edgecolor='k', alpha=0.75, align='mid')\n",
    "plt.xticks(x)\n",
    "plt.show()"
   ]
  },
  {
   "cell_type": "markdown",
   "metadata": {},
   "source": [
    "### 4.2 Distribución de Bernoulli\n",
    "\n",
    "Si un experimento sólo tiene dos posibles resultados y se tiene una variable aleatoria $X$ dada por el evento \"obener resultado1 con una realización del experimento\" (similar a \"obener cara en un lanzamiento de moneda\"), tenemos que la pdf está dada por\n",
    "\n",
    "$$f_X(k) =  \\left\\{ \\begin{matrix}\n",
    "p & , & k=\\textrm{éxito}\\\\\n",
    "1-p & , & k=\\textrm{fracaso}\\end{matrix} \\right.$$\n",
    "\n",
    "Es necesario hacer notar que la probabilidad $p$ está dada para una ocurrencia particular, y suele asociarse con un \"éxito\". Además, una vez que se identifica el resultado que da un éxito, se puede asignar el valor $k=0$ al fracaso y $k=1$ al éxito. Así, una variable aleatoria con distribución de Bernoulli se denota por $X\\sim\\textrm{Ber}(p)$, con $p$ la probabilidad de éxito en ese experimento."
   ]
  },
  {
   "cell_type": "code",
   "execution_count": 104,
   "metadata": {},
   "outputs": [],
   "source": [
    "def bernoulli(k, p):\n",
    "    if k == 0:\n",
    "        return 1 - p\n",
    "    elif k == 1:\n",
    "        return p\n",
    "    else:\n",
    "        return 0"
   ]
  },
  {
   "cell_type": "code",
   "execution_count": 192,
   "metadata": {},
   "outputs": [],
   "source": [
    "pr = 0.75\n",
    "N = 1000\n",
    "\n",
    "x = np.linspace(0, 3, 4)\n",
    "x_real = []\n",
    "\n",
    "for i in x:\n",
    "    x_real.append(bernoulli(i, pr))\n",
    "\n",
    "x_real = np.asarray(x_real)\n",
    "x_sam = np.random.choice([0, 1], size=N, p=[1 - pr,  pr])"
   ]
  },
  {
   "cell_type": "code",
   "execution_count": 193,
   "metadata": {},
   "outputs": [
    {
     "data": {
      "image/png": "[encoded data removed]",
      "text/plain": [
       "<Figure size 864x360 with 1 Axes>"
      ]
     },
     "metadata": {
      "needs_background": "light"
     },
     "output_type": "display_data"
    }
   ],
   "source": [
    "fig = plt.figure(figsize=(12, 5))\n",
    "\n",
    "plt.plot(x, x_real, color='blue', marker='.', markersize=10, linestyle='')\n",
    "plt.hist(x_sam, bins=len(x) + 2, weights=(1 / N) * np.ones(x_sam.shape), color='silver', edgecolor='k', alpha=0.75, align='mid')\n",
    "plt.xticks(x)\n",
    "plt.show()"
   ]
  },
  {
   "cell_type": "markdown",
   "metadata": {},
   "source": [
    "### 4.2 Distribución Binomial\n",
    "\n",
    "Supongamos que ahora tenemos el mismo experimento en donde sólo podemos obtener dos resultados, un éxito con probabilidad $p$ y un fracaso con probabilidad $1-p$, solo que esta vez queremos modelar la cantidad de éxitos que tendremos si repetimos el experimento $n$ veces. Esto define la distribución binomial, donde la variable aleatoria $X$ se describe como \"la probabilidad de obtener $k$ éxitos en $n$ experimentos donde la probabilidad de un éxito es $p$\". La pdf estará dada por\n",
    "\n",
    "$$f_X(k) =  \\left\\{ \\begin{matrix}\n",
    "\\binom{n}{k}p^k(1-p)^{n-k} & , & 0\\le k\\le n\\\\\n",
    "0 & , & \\sim\\end{matrix} \\right.$$\n",
    "\n",
    "Se denota $X\\sim\\textrm{B}(n,p)$."
   ]
  },
  {
   "cell_type": "code",
   "execution_count": 223,
   "metadata": {},
   "outputs": [],
   "source": [
    "def fact(n):\n",
    "    if n == 0 or n == 1:\n",
    "        return 1\n",
    "    else:\n",
    "        prod = 1\n",
    "        for i in range(1, n + 1):\n",
    "            prod *= i\n",
    "        return prod\n",
    "\n",
    "def comb(n, k):\n",
    "    return fact(n) / (fact(k) * fact(n - k))\n",
    "\n",
    "def binomial(k, n, p):\n",
    "    if 0 <= k <= n:\n",
    "        return comb(n, k) * (p ** k) * (1 - p) ** (n - k)\n",
    "    else:\n",
    "        return 0"
   ]
  },
  {
   "cell_type": "code",
   "execution_count": 224,
   "metadata": {},
   "outputs": [],
   "source": [
    "n = 25\n",
    "pr = 0.75\n",
    "N = 1000\n",
    "\n",
    "x = np.linspace(0, 30, 31)\n",
    "x_real = []\n",
    "\n",
    "for i in x:\n",
    "    x_real.append(binomial(int(i), n, pr))\n",
    "\n",
    "x_real = np.asarray(x_real)\n",
    "x_sam = np.random.binomial(n, pr, N)"
   ]
  },
  {
   "cell_type": "code",
   "execution_count": 225,
   "metadata": {},
   "outputs": [
    {
     "data": {
      "image/png": "[encoded data removed]",
      "text/plain": [
       "<Figure size 864x360 with 1 Axes>"
      ]
     },
     "metadata": {
      "needs_background": "light"
     },
     "output_type": "display_data"
    }
   ],
   "source": [
    "fig = plt.figure(figsize=(12, 5))\n",
    "\n",
    "plt.plot(x, x_real, color='blue', marker='.', markersize=10, linestyle='')\n",
    "plt.hist(x_sam, bins=len(x) + 2, weights=(1 / N) * np.ones(x_sam.shape), color='silver', edgecolor='k', alpha=0.75, align='mid')\n",
    "plt.xticks(x)\n",
    "plt.show()"
   ]
  },
  {
   "cell_type": "markdown",
   "metadata": {},
   "source": [
    "### 4.3 Distribución Geométrica\n",
    "\n",
    "Si, por el contrario al caso anterior, deseamos modelar la probabilidad de pasar por una cantidad de fracasos antes de obtener un éxito en nuestro experimento, utilizaremos la distribución geométrica, donde ahora la variable aleatoria $X$ se enuncia como \"la probabilidad de tener que pasar por $k$ fracasos para obtener el primer éxito\". Su pdf es\n",
    "\n",
    "$$f_X(k) =  \\left\\{ \\begin{matrix}\n",
    "p(1-p)^{k-1} & , & k\\in\\mathbb{N}\\\\\n",
    "0 & , & \\sim\\end{matrix} \\right.$$\n",
    "\n",
    "y se denota $X\\sim\\textrm{Geo}(p)$"
   ]
  },
  {
   "cell_type": "code",
   "execution_count": 237,
   "metadata": {},
   "outputs": [],
   "source": [
    "def geometrica(k, p):\n",
    "    if 1 <= k:\n",
    "        return p * (1 - p) ** (k - 1)\n",
    "    else:\n",
    "        return 0"
   ]
  },
  {
   "cell_type": "code",
   "execution_count": 238,
   "metadata": {},
   "outputs": [],
   "source": [
    "pr = 0.75\n",
    "N = 1000\n",
    "\n",
    "x = np.linspace(0, 15, 16)\n",
    "x_real = []\n",
    "\n",
    "for i in x:\n",
    "    x_real.append(geometrica(int(i), pr))\n",
    "\n",
    "x_real = np.asarray(x_real)\n",
    "x_sam = np.random.geometric(pr, N)"
   ]
  },
  {
   "cell_type": "code",
   "execution_count": 239,
   "metadata": {},
   "outputs": [
    {
     "data": {
      "image/png": "[encoded data removed]",
      "text/plain": [
       "<Figure size 864x360 with 1 Axes>"
      ]
     },
     "metadata": {
      "needs_background": "light"
     },
     "output_type": "display_data"
    }
   ],
   "source": [
    "fig = plt.figure(figsize=(12, 5))\n",
    "\n",
    "plt.plot(x, x_real, color='blue', marker='.', markersize=10, linestyle='')\n",
    "plt.hist(x_sam, bins=len(x) + 2, weights=(1 / N) * np.ones(x_sam.shape), color='silver', edgecolor='k', alpha=0.75, align='mid')\n",
    "plt.xticks(x)\n",
    "plt.show()"
   ]
  },
  {
   "cell_type": "markdown",
   "metadata": {},
   "source": [
    "### 4.4 Distribución Binomial negativa\n",
    "\n",
    "Como extensión de la distribución geométrica, podríamos querer modelar la probabilidad de pasar por una cantidad de fracasos antes de obtener una cantidad determinada de éxitos en nuestro experimento, para lo cual se aplica la distribución binomial negativa, donde ahora la variable aleatoria $X$ se enuncia como \"la probabilidad de tener que pasar por $k$ experimentos para obtener $r$ éxitos\". Su pdf está dada por\n",
    "\n",
    "$$f_X(k) =  \\left\\{ \\begin{matrix}\n",
    "\\binom{k+r-1}{k}p^r(1-p)^{k} & , & k\\in\\mathbb{N}\\\\\n",
    "0 & , & \\sim\\end{matrix} \\right.$$\n",
    "\n",
    "y se denota por $X\\sim\\textrm{BN}(r,p)$."
   ]
  },
  {
   "cell_type": "code",
   "execution_count": 246,
   "metadata": {},
   "outputs": [],
   "source": [
    "def binomial_negativa(k, r, p):\n",
    "    if 0 <= k:\n",
    "        return comb(k + r - 1, k) * (p ** r) * (1 - p) ** k\n",
    "    else:\n",
    "        return 0"
   ]
  },
  {
   "cell_type": "code",
   "execution_count": 247,
   "metadata": {},
   "outputs": [],
   "source": [
    "pr = 0.75\n",
    "r = 5\n",
    "N = 1000\n",
    "\n",
    "x = np.linspace(0, 15, 16)\n",
    "x_real = []\n",
    "\n",
    "for i in x:\n",
    "    x_real.append(binomial_negativa(int(i), r, pr))\n",
    "\n",
    "x_real = np.asarray(x_real)\n",
    "x_sam = np.random.negative_binomial(r, pr, N)"
   ]
  },
  {
   "cell_type": "code",
   "execution_count": 248,
   "metadata": {},
   "outputs": [
    {
     "data": {
      "image/png": "[encoded data removed]",
      "text/plain": [
       "<Figure size 864x360 with 1 Axes>"
      ]
     },
     "metadata": {
      "needs_background": "light"
     },
     "output_type": "display_data"
    }
   ],
   "source": [
    "fig = plt.figure(figsize=(12, 5))\n",
    "\n",
    "plt.plot(x, x_real, color='blue', marker='.', markersize=10, linestyle='')\n",
    "plt.hist(x_sam, bins=len(x) + 2, weights=(1 / N) * np.ones(x_sam.shape), color='silver', edgecolor='k', alpha=0.75, align='mid')\n",
    "plt.xticks(x)\n",
    "plt.show()"
   ]
  },
  {
   "cell_type": "markdown",
   "metadata": {},
   "source": [
    "### 4.5 Distribución de Poisson\n",
    "\n",
    "Para terminar con las distribuciones discretas, vemos qué ocurre con la variable aleatoria $X$ dada por \"la probabilidad de que un evento ocurra cierta cantidad de veces en el tiempo o espacio, dado que la frecuencia promedio de ocurrencias $\\lambda$ es conocida\". En ese caso, la pdf es\n",
    "\n",
    "$$f_X(k) =  \\left\\{ \\begin{matrix}\n",
    "\\frac{\\lambda^ke^{-\\lambda}}{k!} & , & k\\in\\mathbb{N}\\\\\n",
    "0 & , & \\sim\\end{matrix} \\right.$$\n",
    "\n",
    "y se denota por $X\\sim\\textrm{Pois}(\\lambda)$. Es necesario notar que, como $\\lambda$ es una medida de frecuencia con unidad de medida dada, una transformación en el rango de tiempo en que se quiere medir la probabilidad implica una transformación en $\\lambda$ apropiada."
   ]
  },
  {
   "cell_type": "code",
   "execution_count": 249,
   "metadata": {},
   "outputs": [],
   "source": [
    "def poisson(k, l):\n",
    "    if 0 <= k:\n",
    "        return (l ** k) * np.exp(-l) / fact(k)\n",
    "    else:\n",
    "        return 0"
   ]
  },
  {
   "cell_type": "code",
   "execution_count": 260,
   "metadata": {},
   "outputs": [],
   "source": [
    "lam = 15\n",
    "N = 1000\n",
    "\n",
    "x = np.linspace(0, 35, 36)\n",
    "x_real = []\n",
    "\n",
    "for i in x:\n",
    "    x_real.append(poisson(int(i), lam))\n",
    "\n",
    "x_real = np.asarray(x_real)\n",
    "x_sam = np.random.poisson(lam, N)"
   ]
  },
  {
   "cell_type": "code",
   "execution_count": 268,
   "metadata": {},
   "outputs": [
    {
     "data": {
      "image/png": "[encoded data removed]",
      "text/plain": [
       "<Figure size 864x360 with 1 Axes>"
      ]
     },
     "metadata": {
      "needs_background": "light"
     },
     "output_type": "display_data"
    }
   ],
   "source": [
    "fig = plt.figure(figsize=(12, 5))\n",
    "\n",
    "plt.plot(x, x_real, color='blue', marker='.', markersize=10, linestyle='')\n",
    "plt.hist(x_sam, bins=len(x) + 11, weights=(1 / N) * np.ones(x_sam.shape), color='silver', edgecolor='k', alpha=0.75, align='mid')\n",
    "\n",
    "plt.show()"
   ]
  },
  {
   "cell_type": "markdown",
   "metadata": {},
   "source": [
    "## 5. Función de probabilidad continua\n",
    "\n",
    "Supongamos ahora que la variable aleatoria con la que trabajamos puede tomar valores en un intervalo real, entre $a$ y $b$, siendo $a<b$ (eventualmente, de valor $\\pm\\infty$). Al haber \"tantos\" valores posibles para cualquier variable aleatoria de esta naturaleza, la probabilidad de que ocurra exactamente uno sólo de estos valores es despreciable, es decir\n",
    "\n",
    "$$\\mathbb{P}(X=x)=0$$\n",
    "\n",
    "De este modo, la pdf no adquiere el sentido que antes tenía, pues la evaluación puntual siempre dará el resultado anterior. Sin embargo, puede aportar información de **cómo se concentra** la probabilidad de ocurrencias. La probabilidad se interpretará como el área que yace bajo esta pdf, lo cual define la CDF como\n",
    "\n",
    "$$\\mathbb{P}(X\\le x)=\\int_{-\\infty}^xf_X(t)dt$$\n",
    "\n",
    "Gracias a lo anterior, se puede deducir que\n",
    "\n",
    "$$\\mathbb{P}(a\\le X\\le b)=\\int_{a}^bf_X(t)dt\\qquad\\textrm{y}\\qquad \\int_{-\\infty}^{\\infty}f_X(t)dt=1$$\n",
    "\n",
    "Por ende, cualquier función continua no negativa que satisfaga lo anterior, es susceptible de representar una probabilidad. Como en este curso no se pide el requisito de saber cómo se calcula una integral como la anterior, se abordará este asunto desde el punto de vista numérico en el siguiente laboratorio por dos vertientes: la aproximación numérica clásica y los métodos Monte-Carlo.\n",
    "\n",
    "### 5.1 Distribución uniforme continua\n",
    "\n",
    "Similarmente con el caso discreto, esta distribución modela un fenómeno donde todos los resultados son igualmente probables, con la diferencia en que dichos resultados pueden pertenecer a todo un intervalo. Su pdf está dada por\n",
    "\n",
    "$$f_X(x) =  \\left\\{ \\begin{matrix}\n",
    "\\frac{1}{b-a} & , & x\\in[a,b]\\\\\n",
    "0 & , & \\sim\\end{matrix} \\right.$$\n",
    "\n",
    "De este modo, se tendrá que su CDF es\n",
    "\n",
    "$$\\mathbb{P}(X\\le x) =  \\left\\{ \\begin{matrix}\n",
    "0 & , & x<a\\\\\n",
    "\\frac{x-a}{b-a} & , & x\\in[a,b]\\\\\n",
    "1 & , & x>b\\end{matrix} \\right.$$\n",
    "\n",
    "Se denota por $X\\sim\\mathcal{U}(a,b)$."
   ]
  },
  {
   "cell_type": "code",
   "execution_count": 294,
   "metadata": {},
   "outputs": [],
   "source": [
    "def uniforme_continua(x, a, b):\n",
    "    if a <= x <= b:\n",
    "        return 1 / (b - a)\n",
    "    else:\n",
    "        return 0"
   ]
  },
  {
   "cell_type": "code",
   "execution_count": 299,
   "metadata": {
    "code_folding": [
     0
    ]
   },
   "outputs": [],
   "source": [
    "a = 2\n",
    "b = 8\n",
    "N = 1000\n",
    "\n",
    "x = np.linspace(0, 10, 1001)\n",
    "x_real = []\n",
    "\n",
    "for i in x:\n",
    "    x_real.append(uniforme_continua(i, a, b))\n",
    "\n",
    "x_real = np.asarray(x_real)\n",
    "x_sam = np.random.uniform(a, b, N)"
   ]
  },
  {
   "cell_type": "code",
   "execution_count": 303,
   "metadata": {},
   "outputs": [
    {
     "data": {
      "image/png": "[encoded data removed]",
      "text/plain": [
       "<Figure size 864x360 with 1 Axes>"
      ]
     },
     "metadata": {
      "needs_background": "light"
     },
     "output_type": "display_data"
    }
   ],
   "source": [
    "fig = plt.figure(figsize=(12, 5))\n",
    "\n",
    "plt.plot(x, x_real, color='blue', marker='.', markersize=5, linestyle='')\n",
    "plt.hist(x_sam, density=True, color='silver', edgecolor='k', alpha=0.75, align='mid')\n",
    "plt.show()"
   ]
  },
  {
   "cell_type": "markdown",
   "metadata": {},
   "source": [
    "### 5.2 Distribución exponencial\n",
    "\n",
    "Esta distribución es una versión continua de la distribución de Poisson, en el sentido que modela la probabilidad de transcurrencia de cierto intervalo de tiempo entre dos ocurrencias consecutivas de un mismo evento, sabiendo que la frecuencia promedio de éstas es $\\lambda$. Su pdf está dada por\n",
    "\n",
    "$$f_X(x) =  \\left\\{ \\begin{matrix}\n",
    "\\lambda e^{-\\lambda x} & , & x\\ge 0\\\\\n",
    "0 & , & x<0\\end{matrix} \\right.$$\n",
    "\n",
    "De este modo, su CDF queda dada por\n",
    "\n",
    "$$\\mathbb{P}(X\\le x) =  \\left\\{ \\begin{matrix}\n",
    "0 & , & x<0\\\\\n",
    "1-e^{-\\lambda x} & , & x\\ge0\\end{matrix} \\right.$$\n",
    "\n",
    "Notar que $\\mathbb{P}(X\\le x)\\longrightarrow1$ cuando $x\\longrightarrow\\infty$. Se denota $X\\sim\\textrm{E}(\\lambda)$."
   ]
  },
  {
   "cell_type": "code",
   "execution_count": 304,
   "metadata": {},
   "outputs": [],
   "source": [
    "def exponencial(x, l):\n",
    "    if 0 <= x:\n",
    "        return l * np.exp(-l * x)\n",
    "    else:\n",
    "        return 0"
   ]
  },
  {
   "cell_type": "code",
   "execution_count": 316,
   "metadata": {},
   "outputs": [],
   "source": [
    "lam = 4\n",
    "N = 1000\n",
    "\n",
    "x = np.linspace(0, 2, 1001)\n",
    "x_real = []\n",
    "\n",
    "for i in x:\n",
    "    x_real.append(exponencial(i, lam))\n",
    "\n",
    "x_real = np.asarray(x_real)\n",
    "x_sam = np.random.exponential(1 / lam, N)"
   ]
  },
  {
   "cell_type": "code",
   "execution_count": 318,
   "metadata": {},
   "outputs": [
    {
     "data": {
      "image/png": "[encoded data removed]",
      "text/plain": [
       "<Figure size 864x360 with 1 Axes>"
      ]
     },
     "metadata": {
      "needs_background": "light"
     },
     "output_type": "display_data"
    }
   ],
   "source": [
    "fig = plt.figure(figsize=(12, 5))\n",
    "\n",
    "plt.plot(x, x_real, color='blue', linestyle='-')\n",
    "plt.hist(x_sam, bins=50, density=True, color='silver', edgecolor='k', alpha=0.75, align='mid')\n",
    "plt.show()"
   ]
  },
  {
   "cell_type": "markdown",
   "metadata": {},
   "source": [
    "### 5.3 Distribución normal\n",
    "\n",
    "Ésta es, quizás, la distribución más importante en el análisis de datos y en los estudios de carácter estocástico. Las razones para ello se entienden estudiando en mayor profundidad resultados como el Teorema de los Grandes Números, en que se establece condiciones para las que un experimento realizado numerosas veces pueda ser modelado por este tipo de distribución. De forma más sencilla, puede verse como una versión continua de la distribución binomial, y su pdf responde a\n",
    "\n",
    "$$f_X(x) =  \\frac{1}{\\sqrt{2\\pi}\\sigma}e^{-\\frac{(x-\\mu)^2}{2\\sigma^2}}$$\n",
    "\n",
    "Este es el primer caso en que la CDF no puede calcularse de forma analítica para cada valor de $x$, razón por la que se hace necesario el uso de tablas de valores o métodos de integración. Se denota por $X\\sim\\mathcal{N}(\\mu,\\sigma^2)$."
   ]
  },
  {
   "cell_type": "code",
   "execution_count": 333,
   "metadata": {},
   "outputs": [],
   "source": [
    "def normal(x, mu, sigma):\n",
    "    return (1 / np.sqrt(2 * np.pi * sigma ** 2)) * np.exp(-(x - mu) ** 2 / (2 * sigma ** 2))"
   ]
  },
  {
   "cell_type": "code",
   "execution_count": 339,
   "metadata": {},
   "outputs": [],
   "source": [
    "mu = 6\n",
    "sigma = 2\n",
    "N = 10000\n",
    "\n",
    "x = np.linspace(-2, 15, 1001)\n",
    "x_real = []\n",
    "\n",
    "for i in x:\n",
    "    x_real.append(normal(i, mu, sigma))\n",
    "\n",
    "x_real = np.asarray(x_real)\n",
    "x_sam = np.random.normal(mu, sigma, N)"
   ]
  },
  {
   "cell_type": "code",
   "execution_count": 340,
   "metadata": {},
   "outputs": [
    {
     "data": {
      "image/png": "[encoded data removed]",
      "text/plain": [
       "<Figure size 864x360 with 1 Axes>"
      ]
     },
     "metadata": {
      "needs_background": "light"
     },
     "output_type": "display_data"
    }
   ],
   "source": [
    "fig = plt.figure(figsize=(12, 5))\n",
    "\n",
    "plt.plot(x, x_real, color='blue', linestyle='-')\n",
    "plt.hist(x_sam, bins=50, density=True, color='silver', edgecolor='k', alpha=0.75, align='mid')\n",
    "plt.show()"
   ]
  },
  {
   "cell_type": "markdown",
   "metadata": {},
   "source": [
    "## Ejercicios\n",
    "\n",
    "**1.-** Para la lista de distribuciones mencionadas, averigüe el significado y el valor de los siguientes términos:\n",
    "\n",
    "**a)** Esperanza (*mean*)\n",
    "<br>\n",
    "**b)** Varianza (*variance*)\n",
    "<br>\n",
    "**c)** Mediana (*median*)\n",
    "<br>\n",
    "**d)** Moda (*mode*)\n",
    "<br>\n",
    "<br>\n",
    "¿Cómo interpreta estos valores?\n",
    "\n",
    "**2.-** Para las distribuciones vistas, realice el siguiente experimento:\n",
    "\n",
    "**a)** Encuentre el valor de su esperanza\n",
    "<br>\n",
    "**b)** Realice un muestreo aleatorio de tamaño $N$ a su elección (ojalá $N\\ge100$).\n",
    "<br>\n",
    "**c)** Calcule y grafique la cantidad $\\frac{1}{k}\\sum_{i=1}^kx_i$, para $k$ desde $1$ hasta $N$. Puede utilizar los comandos\n",
    "```Python\n",
    "# x tiene que estar definido desde antes como una muestra aleatoria de su elección, con N puntos\n",
    "suma = []\n",
    "for i in range(N):\n",
    "    s = np.mean(x[:i])\n",
    "    suma.append(s)\n",
    "```\n",
    "Superponga a este gráfico el valor constante encontrado para la esperanza. ¿Cómo se comportan estas cantidades?"
   ]
  },
  {
   "cell_type": "code",
   "execution_count": null,
   "metadata": {},
   "outputs": [],
   "source": []
  }
 ],
 "metadata": {
  "kernelspec": {
   "display_name": "Python 3",
   "language": "python",
   "name": "python3"
  },
  "language_info": {
   "codemirror_mode": {
    "name": "ipython",
    "version": 3
   },
   "file_extension": ".py",
   "mimetype": "text/x-python",
   "name": "python",
   "nbconvert_exporter": "python",
   "pygments_lexer": "ipython3",
   "version": "3.7.7"
  }
 },
 "nbformat": 4,
 "nbformat_minor": 4
}
