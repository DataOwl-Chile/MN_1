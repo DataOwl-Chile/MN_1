{
 "cells": [
  {
   "cell_type": "markdown",
   "metadata": {},
   "source": [
    "<p><img alt=\"DataOwl\" width=150 src=\"http://gwsolutions.cl/Images/dataowl.png\", align=\"left\", hspace=0, vspace=5></p>\n",
    "\n",
    "<h1 align=\"center\">Álgebra Lineal</h1>\n",
    "\n",
    "<h4 align=\"center\">Ecuaciones lineales de varias variables y su resolución</h4>\n",
    "<pre><div align=\"center\"> La idea de este notebook es que sirva para iniciarse en conceptos\n",
    "básicos del Álgebra Lineal y sus métodos de resolución en el\n",
    "contexto de sistemas de ecuaciones lineales.</div>"
   ]
  },
  {
   "cell_type": "markdown",
   "metadata": {},
   "source": [
    "## Álgebra Lineal\n",
    "\n",
    "## 2. Sistemas de ecuaciones lineales\n",
    "\n",
    "\n",
    "Continuando con la idea de resolver ecuaciones, es frecuente encontrarse en situaciones en las que es necesario determinar el valor de varias incógnitas simultáneamente. Por ejemplo, un caso inocente podría ser considerar una compra para cual contamos con cierto presupuesto fijo, el cual debemos distribuir con el objetivo de comprar una cantidad fija de artículos. Si $x$ representa la cantidad de un artículo e $y$ representa la cantidad de otro artículo, podemos pensar que el  presupuesto $P$ debe satisfacer la ecuación\n",
    "\n",
    "$$Ax + By = P$$\n",
    "\n",
    "donde $A$ y $B$ son los precios unitarios de los artículos $x$ e $y$, respectivamente. Además, si contamos con la restricción de que la cantidad de artículos que compremos tiene que ser igual a una carga $Q$ que podemos acarrear, se debe cumplir que\n",
    "\n",
    "$$x+y=Q$$\n",
    "\n",
    "En resumen, tendremos las ecuaciones\n",
    "\n",
    "$$\\begin{matrix}\n",
    "Ax + By &=& P\\\\\n",
    "x+y &=& Q\n",
    "\\end{matrix}$$\n",
    "\n",
    "\n",
    "las cuales pueden resolverse de forma simultánea, dadas ciertas condiciones. En este caso, usaremos el apronte matricial para ello, notando que es posible reescribir lo anterior como producto de matrices y vectores:\n",
    "\n",
    "$$\\begin{bmatrix}A&B\\\\1&1\\end{bmatrix}  \\begin{bmatrix}x\\\\ y\\end{bmatrix}=\\begin{bmatrix}P\\\\ Q\\end{bmatrix}$$\n",
    "\n",
    "La fórmula anterior está justificada por el hecho de que \n",
    "\n",
    "$$\\begin{bmatrix}A&B\\\\1&1\\end{bmatrix}  \\begin{bmatrix}x\\\\ y\\end{bmatrix}=\n",
    "\\begin{bmatrix}Ax + By\\\\1x + 1y\\end{bmatrix}=\n",
    "\\begin{bmatrix}P\\\\ Q\\end{bmatrix}\\ \\Longrightarrow\\ \\begin{matrix}\n",
    "Ax + By &=& P\\\\\n",
    "x+y &=& Q\n",
    "\\end{matrix}$$\n",
    "\n",
    "de forma que se recupera el sistema de ecuaciones inicial. Como las incógnitas son $x$ e $y$, si hubiese una forma de \"despejar\" el vector que ellas forman, obtendríamos su valor. Esto es posible premultiplicando la ecuación por la matriz inversa a la que acompaña al vector incógnito. Esto es sólo posible si la matriz en cuestión es invertible, es decir, si su determinante es distinto de $0$. El resultado sería\n",
    "\n",
    "$$\\begin{bmatrix}x\\\\ y\\end{bmatrix}=\\begin{bmatrix}A&B\\\\1&1\\end{bmatrix}^{-1}\\begin{bmatrix}P\\\\ Q\\end{bmatrix}$$"
   ]
  },
  {
   "cell_type": "code",
   "execution_count": 1,
   "metadata": {},
   "outputs": [],
   "source": [
    "# Importando las librerías\n",
    "import matplotlib.colors as mcolors\n",
    "import matplotlib.pyplot as plt\n",
    "import numpy as np\n",
    "import xlrd"
   ]
  },
  {
   "cell_type": "code",
   "execution_count": 2,
   "metadata": {},
   "outputs": [
    {
     "name": "stdout",
     "output_type": "stream",
     "text": [
      "[[-10.]\n",
      " [ 15.]]\n",
      "[[-10.]\n",
      " [ 15.]]\n"
     ]
    }
   ],
   "source": [
    "# Caso en que sí se puede resolver el sistema\n",
    "\n",
    "A = 1000  # Costo de 1kg de hallulla\n",
    "B = 800   # Costo de 1kg de marraqueta\n",
    "P = 2000  # Presupuesto\n",
    "Q = 5     # Cantidad de kg que voy a cargar\n",
    "\n",
    "M = np.matrix([[A, B], [1, 1]])\n",
    "v = np.matrix([[P], [Q]])\n",
    "\n",
    "xy1 = np.linalg.inv(M) * v\n",
    "xy2 = np.linalg.solve(M, v)\n",
    "\n",
    "print(xy1)\n",
    "print(xy2)"
   ]
  },
  {
   "cell_type": "code",
   "execution_count": 4,
   "metadata": {},
   "outputs": [
    {
     "ename": "LinAlgError",
     "evalue": "Singular matrix",
     "output_type": "error",
     "traceback": [
      "\u001b[1;31m---------------------------------------------------------------------------\u001b[0m",
      "\u001b[1;31mLinAlgError\u001b[0m                               Traceback (most recent call last)",
      "\u001b[1;32m<ipython-input-4-8204e93cf35c>\u001b[0m in \u001b[0;36m<module>\u001b[1;34m\u001b[0m\n\u001b[0;32m      9\u001b[0m \u001b[0mv\u001b[0m \u001b[1;33m=\u001b[0m \u001b[0mnp\u001b[0m\u001b[1;33m.\u001b[0m\u001b[0mmatrix\u001b[0m\u001b[1;33m(\u001b[0m\u001b[1;33m[\u001b[0m\u001b[1;33m[\u001b[0m\u001b[0mP\u001b[0m\u001b[1;33m]\u001b[0m\u001b[1;33m,\u001b[0m \u001b[1;33m[\u001b[0m\u001b[0mQ\u001b[0m\u001b[1;33m]\u001b[0m\u001b[1;33m]\u001b[0m\u001b[1;33m)\u001b[0m\u001b[1;33m\u001b[0m\u001b[1;33m\u001b[0m\u001b[0m\n\u001b[0;32m     10\u001b[0m \u001b[1;33m\u001b[0m\u001b[0m\n\u001b[1;32m---> 11\u001b[1;33m \u001b[0mxy1\u001b[0m \u001b[1;33m=\u001b[0m \u001b[0mnp\u001b[0m\u001b[1;33m.\u001b[0m\u001b[0mlinalg\u001b[0m\u001b[1;33m.\u001b[0m\u001b[0minv\u001b[0m\u001b[1;33m(\u001b[0m\u001b[0mM\u001b[0m\u001b[1;33m)\u001b[0m \u001b[1;33m*\u001b[0m \u001b[0mv\u001b[0m\u001b[1;33m\u001b[0m\u001b[1;33m\u001b[0m\u001b[0m\n\u001b[0m\u001b[0;32m     12\u001b[0m \u001b[0mxy2\u001b[0m \u001b[1;33m=\u001b[0m \u001b[0mnp\u001b[0m\u001b[1;33m.\u001b[0m\u001b[0mlinalg\u001b[0m\u001b[1;33m.\u001b[0m\u001b[0msolve\u001b[0m\u001b[1;33m(\u001b[0m\u001b[0mM\u001b[0m\u001b[1;33m,\u001b[0m \u001b[0mv\u001b[0m\u001b[1;33m)\u001b[0m\u001b[1;33m\u001b[0m\u001b[1;33m\u001b[0m\u001b[0m\n",
      "\u001b[1;32m<__array_function__ internals>\u001b[0m in \u001b[0;36minv\u001b[1;34m(*args, **kwargs)\u001b[0m\n",
      "\u001b[1;32mD:\\Applications\\Anaconda\\envs\\MN1\\lib\\site-packages\\numpy\\linalg\\linalg.py\u001b[0m in \u001b[0;36minv\u001b[1;34m(a)\u001b[0m\n\u001b[0;32m    545\u001b[0m     \u001b[0msignature\u001b[0m \u001b[1;33m=\u001b[0m \u001b[1;34m'D->D'\u001b[0m \u001b[1;32mif\u001b[0m \u001b[0misComplexType\u001b[0m\u001b[1;33m(\u001b[0m\u001b[0mt\u001b[0m\u001b[1;33m)\u001b[0m \u001b[1;32melse\u001b[0m \u001b[1;34m'd->d'\u001b[0m\u001b[1;33m\u001b[0m\u001b[1;33m\u001b[0m\u001b[0m\n\u001b[0;32m    546\u001b[0m     \u001b[0mextobj\u001b[0m \u001b[1;33m=\u001b[0m \u001b[0mget_linalg_error_extobj\u001b[0m\u001b[1;33m(\u001b[0m\u001b[0m_raise_linalgerror_singular\u001b[0m\u001b[1;33m)\u001b[0m\u001b[1;33m\u001b[0m\u001b[1;33m\u001b[0m\u001b[0m\n\u001b[1;32m--> 547\u001b[1;33m     \u001b[0mainv\u001b[0m \u001b[1;33m=\u001b[0m \u001b[0m_umath_linalg\u001b[0m\u001b[1;33m.\u001b[0m\u001b[0minv\u001b[0m\u001b[1;33m(\u001b[0m\u001b[0ma\u001b[0m\u001b[1;33m,\u001b[0m \u001b[0msignature\u001b[0m\u001b[1;33m=\u001b[0m\u001b[0msignature\u001b[0m\u001b[1;33m,\u001b[0m \u001b[0mextobj\u001b[0m\u001b[1;33m=\u001b[0m\u001b[0mextobj\u001b[0m\u001b[1;33m)\u001b[0m\u001b[1;33m\u001b[0m\u001b[1;33m\u001b[0m\u001b[0m\n\u001b[0m\u001b[0;32m    548\u001b[0m     \u001b[1;32mreturn\u001b[0m \u001b[0mwrap\u001b[0m\u001b[1;33m(\u001b[0m\u001b[0mainv\u001b[0m\u001b[1;33m.\u001b[0m\u001b[0mastype\u001b[0m\u001b[1;33m(\u001b[0m\u001b[0mresult_t\u001b[0m\u001b[1;33m,\u001b[0m \u001b[0mcopy\u001b[0m\u001b[1;33m=\u001b[0m\u001b[1;32mFalse\u001b[0m\u001b[1;33m)\u001b[0m\u001b[1;33m)\u001b[0m\u001b[1;33m\u001b[0m\u001b[1;33m\u001b[0m\u001b[0m\n\u001b[0;32m    549\u001b[0m \u001b[1;33m\u001b[0m\u001b[0m\n",
      "\u001b[1;32mD:\\Applications\\Anaconda\\envs\\MN1\\lib\\site-packages\\numpy\\linalg\\linalg.py\u001b[0m in \u001b[0;36m_raise_linalgerror_singular\u001b[1;34m(err, flag)\u001b[0m\n\u001b[0;32m     95\u001b[0m \u001b[1;33m\u001b[0m\u001b[0m\n\u001b[0;32m     96\u001b[0m \u001b[1;32mdef\u001b[0m \u001b[0m_raise_linalgerror_singular\u001b[0m\u001b[1;33m(\u001b[0m\u001b[0merr\u001b[0m\u001b[1;33m,\u001b[0m \u001b[0mflag\u001b[0m\u001b[1;33m)\u001b[0m\u001b[1;33m:\u001b[0m\u001b[1;33m\u001b[0m\u001b[1;33m\u001b[0m\u001b[0m\n\u001b[1;32m---> 97\u001b[1;33m     \u001b[1;32mraise\u001b[0m \u001b[0mLinAlgError\u001b[0m\u001b[1;33m(\u001b[0m\u001b[1;34m\"Singular matrix\"\u001b[0m\u001b[1;33m)\u001b[0m\u001b[1;33m\u001b[0m\u001b[1;33m\u001b[0m\u001b[0m\n\u001b[0m\u001b[0;32m     98\u001b[0m \u001b[1;33m\u001b[0m\u001b[0m\n\u001b[0;32m     99\u001b[0m \u001b[1;32mdef\u001b[0m \u001b[0m_raise_linalgerror_nonposdef\u001b[0m\u001b[1;33m(\u001b[0m\u001b[0merr\u001b[0m\u001b[1;33m,\u001b[0m \u001b[0mflag\u001b[0m\u001b[1;33m)\u001b[0m\u001b[1;33m:\u001b[0m\u001b[1;33m\u001b[0m\u001b[1;33m\u001b[0m\u001b[0m\n",
      "\u001b[1;31mLinAlgError\u001b[0m: Singular matrix"
     ]
    }
   ],
   "source": [
    "# Caso en el que no se puede resolver el sistema\n",
    "\n",
    "A = 500  # Costo de 1kg de hallulla\n",
    "B = 500   # Costo de 1kg de marraqueta\n",
    "P = 2000  # Presupuesto\n",
    "Q = 4     # Cantidad de kg que voy a cargar\n",
    "\n",
    "M = np.matrix([[A, B], [1, 1]])\n",
    "v = np.matrix([[P], [Q]])\n",
    "\n",
    "xy1 = np.linalg.inv(M) * v\n",
    "xy2 = np.linalg.solve(M, v)  # Tendremos un error porque no se puede calcular la matriz inversa\n"
   ]
  },
  {
   "cell_type": "markdown",
   "metadata": {},
   "source": [
    "Respecto de los resultados anteriores, está claro que ambos métodos son equivalentes. Sin embargo, suele considerarse una mejor práctica aplicar el segundo, pues las librerías de Python están optimizadas para la instrucción que se le da, en este caso, la resolución del sistema.\n",
    "\n",
    "Es necesario recalcar que, para poder aplicar estos resultados, la matriz que se defina sea, como mínimo, cuadrada. De otro modo, no tiene sentido aplicar una matriz inversa. Además, el hecho de que sea invertible permite encontrar una solución única. En caso de que esta condición no se cumpla, el sistema puede no tener solución o bien infinitas soluciones.\n",
    "\n",
    "## 3. Regresión Lineal\n",
    "\n",
    "Este tipo de problemas es muy recurrente en diversas situaciones. Así como el ajuste de presupuestos, es posible encontrarlos en campos como Biología, Estadística, Física, Química y Ciencias Sociales. Esto debido a que los problemas que se puede abarcar con este apronte son lineales, en el sentido de que el aumento de una de las incógnitas siempre representa la misma variación en el resultado, y esto es frecuentemente asumido como un supuesto en modelos de distinta índole.\n",
    "\n",
    "Una Regresión Lineal puede permitir predecir el comportamiento de una variable cuyo efecto es desconocido, basados en el comportamiento de datos que sí se conoce. Por esto, es un método bastante utilizado en áreas que involucran tomas de decisión (como un caso incipiente, en Machine Learning).\n",
    "\n",
    "La idea es, basados en una muestra de datos $y_1,\\ y_2,\\ldots,\\ y_n$ obtenidas en una muestra de \"tiempos\" $x_1,\\ x_2,\\ldots,\\ x_n$, obtener una recta\n",
    "\n",
    "$$y = \\alpha x + \\beta$$\n",
    "\n",
    "de forma que esos datos queden \"bien\" aproximados. La forma más sencilla de plantear el problema, es asumir que la ecuación de la recta anterior es satisfecha para todos los datos $(x_i,y_i)$ registrados, es decir, que\n",
    "\n",
    "$$y_i=\\alpha x_i+\\beta$$\n",
    "\n",
    "donde, como observamos, $m$ y $n$ son parámetros fijos. Si ordenamos todos los datos según esta información, obtenemos\n",
    "\n",
    "$$ \\begin{matrix}\n",
    "\\alpha x_1+\\beta& = &y_1\\\\\n",
    "\\alpha x_2+\\beta& = &y_2\\\\\n",
    " & \\vdots &\\\\\n",
    "\\alpha x_n+\\beta& = &y_n\\end{matrix} $$\n",
    "\n",
    "donde ahora las incógnitas son $\\alpha$ y $\\beta$. Escribiendo lo anterior como ecuación matricial, se obtiene\n",
    "\n",
    "$$ \\begin{bmatrix}\n",
    "x_1&1\\\\\n",
    "x_2&1\\\\\n",
    "\\vdots&\\vdots\\\\\n",
    "x_n&1\\end{bmatrix} \n",
    "  \\begin{bmatrix}\n",
    " \\alpha\\\\\n",
    " \\beta\\end{bmatrix} =\n",
    "  \\begin{bmatrix}\n",
    "y_1\\\\\n",
    "y_2\\\\\n",
    "\\vdots\\\\\n",
    "y_n\\end{bmatrix} $$\n",
    "\n",
    "El objetivo es encontrar las incógnitas, pero no es posible por el método anterior, pues la matriz a la izquierda no es cuadrada. La forma de \"hacerla cuadrada\" es mediante un teorema bastante sencillo: si $G$ es una matriz de dimensiones $m\\times n$, entonces $G^{\\top}G$ y $GG^{\\top}$ son matrices cuadradas, de dimensiones $n\\times n$ y $m\\times m$, respectivamente.\n",
    "\n",
    "Aprovechando esto, se puede definir la matriz izquierda como $G$. Definiendo como $\\vec{m}$ el vector de incógnitas y $\\vec{d}$ el vector de la derecha, la ecuación anterior se puede resolver como\n",
    "\n",
    "$$\\begin{matrix}\n",
    "G\\cdot\\vec{m}&=&\\vec{d}\\\\\n",
    "G^{\\top}G\\cdot\\vec{m}&=&G^{\\top}\\cdot\\vec{d}\\\\\n",
    "\\vec{m}&=&\\left(G^{\\top}G\\right)^{-1}G^{\\top}\\cdot\\vec{d}\\end{matrix}$$\n",
    "\n",
    "Con eso, se obtiene los parámetros que definen el modelo lineal que supusimos.\n",
    "\n",
    "Como ejemplo, se muestra la tasa de pobreza por ingreso y la tasa de afiliación a los sistemas FONASA e ISAPRE, en distintas comunas de Santiago.\n",
    "\n",
    "Para esta parte, se instaló una librería que permite leer archios XLSX, que puede conseguir ejecutando ```pip install xlrd``` en la terminal."
   ]
  },
  {
   "cell_type": "code",
   "execution_count": 6,
   "metadata": {},
   "outputs": [
    {
     "name": "stdout",
     "output_type": "stream",
     "text": [
      "['Las Condes', 'Providencia', 'Ñuñoa', 'Maipu', 'Talagante', 'Quinta Normal', 'Renca', 'Santiago', 'Peñalolen', 'La Florida', 'La Granja', 'San Miguel', 'Melipilla', 'Quilicura', 'Estacion Central', 'Pedro Aguirre Cerda', 'Colina', 'Recoleta', 'Puente Alto', 'Conchali', 'Macul', 'Cerro Navia', 'Pudahuel', 'San Bernardo', 'El Bosque', 'La Pintana']\n"
     ]
    }
   ],
   "source": [
    "loc = (\"Comunas.xlsx\") \n",
    "  \n",
    "wb = xlrd.open_workbook(loc) \n",
    "sheet = wb.sheet_by_index(0) \n",
    "region = [] \n",
    "comuna = []\n",
    "pobreza = []\n",
    "fonasa = []\n",
    "isapre = []\n",
    "\n",
    "for i in range(1, sheet.nrows): \n",
    "    region.append(sheet.cell_value(i, 0))\n",
    "    comuna.append(sheet.cell_value(i, 1))\n",
    "    pobreza.append(sheet.cell_value(i, 2))\n",
    "    fonasa.append(sheet.cell_value(i, 3))\n",
    "    isapre.append(sheet.cell_value(i, 4))\n",
    "    \n",
    "print(comuna)"
   ]
  },
  {
   "cell_type": "code",
   "execution_count": 7,
   "metadata": {},
   "outputs": [
    {
     "data": {
      "image/png": "[encoded data removed]",
      "text/plain": [
       "<Figure size 432x288 with 1 Axes>"
      ]
     },
     "metadata": {
      "needs_background": "light"
     },
     "output_type": "display_data"
    }
   ],
   "source": [
    "plt.plot(pobreza, fonasa, '.b', label='FONASA')\n",
    "plt.plot(pobreza, isapre, '.r', label='ISAPRE')\n",
    "plt.xlabel('Tasa de pobreza por ingreso (%)')\n",
    "plt.ylabel('Tasa de afiliación (%)')\n",
    "plt.title('Tasa de afiliación a sistema de salud por tasa de pobreza por ingresos en cada comuna')\n",
    "plt.legend()\n",
    "plt.show()"
   ]
  },
  {
   "cell_type": "markdown",
   "metadata": {},
   "source": [
    "Según se puede ver en el gráfico, hay una clara tendencia de la afiliación a FONASA, creciendo mientras crece la tasa de pobreza, mientras que la afiliación a ISAPRE disminuye. Si asumimos que la tendencia es lineal, podemos encontrar una recta que representa esa tendencia en cada caso."
   ]
  },
  {
   "cell_type": "code",
   "execution_count": 33,
   "metadata": {},
   "outputs": [
    {
     "data": {
      "text/plain": [
       "array([212.80740928,  24.94904672])"
      ]
     },
     "execution_count": 33,
     "metadata": {},
     "output_type": "execute_result"
    }
   ],
   "source": [
    "n = len(pobreza)\n",
    "\n",
    "pobreza = np.asarray(pobreza)\n",
    "\n",
    "G = np.ones((n, 2))\n",
    "d = np.asarray(fonasa)\n",
    "\n",
    "for i in range(n):\n",
    "    G[i, 0] = pobreza[i]\n",
    "\n",
    "Gt = G.transpose()\n",
    "\n",
    "GtG = np.dot(Gt, G)\n",
    "GtGinv = np.linalg.inv(GtG)\n",
    "\n",
    "GtGinvGt = np.dot(GtGinv,Gt)\n",
    "\n",
    "m = np.dot(GtGinvGt, d)\n",
    "m"
   ]
  },
  {
   "cell_type": "code",
   "execution_count": 37,
   "metadata": {},
   "outputs": [],
   "source": [
    "x = np.linspace(0, 0.15, 100)\n",
    "y = x * m[0] + m[1]"
   ]
  },
  {
   "cell_type": "code",
   "execution_count": 38,
   "metadata": {},
   "outputs": [
    {
     "data": {
      "image/png": "[encoded data removed]",
      "text/plain": [
       "<Figure size 432x288 with 1 Axes>"
      ]
     },
     "metadata": {
      "needs_background": "light"
     },
     "output_type": "display_data"
    }
   ],
   "source": [
    "plt.plot(pobreza, fonasa, '.b', label='FONASA')\n",
    "plt.plot(pobreza, isapre, '.r', label='ISAPRE')\n",
    "plt.plot(x, y, '--y', label='Reg. Lin. en FONASA')\n",
    "plt.xlabel('Tasa de pobreza por ingreso (%)')\n",
    "plt.ylabel('Tasa de afiliación (%)')\n",
    "plt.title('Tasa de afiliación a sistema de salud por tasa de pobreza por ingresos en cada comuna')\n",
    "plt.legend()\n",
    "plt.show()"
   ]
  },
  {
   "cell_type": "markdown",
   "metadata": {},
   "source": [
    "La formulación anterior es extremadamente flexible, en el sentido de que se puede adaptar prácticamente cualquier tipo de regresión, no necesariamente lineal, a uno con forma de regresión lineal. Por ejemplo, en los datos anteriores podríamos querer aproximar una parábola, en lugar de una recta. Esto significa que el modelo responde a la fórmula\n",
    "\n",
    "$$y=ax^2+bx+c$$\n",
    "\n",
    "Por lo tanto, si los puntos de la muestra satisfacen esta fórmula, tendremos que \n",
    "\n",
    "$$ \\begin{bmatrix}\n",
    "x_1^2&x_1&1\\\\\n",
    "x_2^2&x_2&1\\\\\n",
    "&\\vdots&\\\\\n",
    "x_n^2&x_n&1\\end{bmatrix} \n",
    "  \\begin{bmatrix}\n",
    " a\\\\\n",
    " b\\\\\n",
    " c\\end{bmatrix} =\n",
    "  \\begin{bmatrix}\n",
    "y_1\\\\\n",
    "y_2\\\\\n",
    "\\vdots\\\\\n",
    "y_n\\end{bmatrix} $$\n",
    "\n",
    "y esto redefine la matriz $G$ y el vector $\\vec{m}$ que utilizamos de forma consecuente."
   ]
  },
  {
   "cell_type": "code",
   "execution_count": 19,
   "metadata": {},
   "outputs": [
    {
     "data": {
      "text/plain": [
       "array([-5187.55931947,  1106.75894498,    31.80237658])"
      ]
     },
     "execution_count": 19,
     "metadata": {},
     "output_type": "execute_result"
    }
   ],
   "source": [
    "n = len(pobreza)\n",
    "\n",
    "pobreza = np.asarray(pobreza)\n",
    "\n",
    "G = np.ones((n, 3))\n",
    "d = np.asarray(fonasa)\n",
    "\n",
    "for i in range(n):\n",
    "    G[i, 0] = pobreza[i] ** 2\n",
    "    G[i, 1] = pobreza[i]\n",
    "\n",
    "Gt = G.transpose()\n",
    "\n",
    "GtG = np.dot(Gt, G)\n",
    "GtGinv = np.linalg.inv(GtG)\n",
    "\n",
    "GtGinvGt = np.dot(GtGinv,Gt)\n",
    "\n",
    "m = np.dot(GtGinvGt, d)\n",
    "m"
   ]
  },
  {
   "cell_type": "code",
   "execution_count": 21,
   "metadata": {},
   "outputs": [],
   "source": [
    "x = np.linspace(0, 0.15, 100)\n",
    "y = m[0] * x ** 2 + m[1] * x + m[2]"
   ]
  },
  {
   "cell_type": "code",
   "execution_count": 22,
   "metadata": {},
   "outputs": [
    {
     "data": {
      "image/png": "[encoded data removed]",
      "text/plain": [
       "<Figure size 432x288 with 1 Axes>"
      ]
     },
     "metadata": {
      "needs_background": "light"
     },
     "output_type": "display_data"
    }
   ],
   "source": [
    "plt.plot(pobreza, fonasa, '.b', label='FONASA')\n",
    "plt.plot(pobreza, isapre, '.r', label='ISAPRE')\n",
    "plt.plot(x, y, '--y', label='Reg. Lin. en FONASA')\n",
    "plt.xlabel('Tasa de pobreza por ingreso (%)')\n",
    "plt.ylabel('Tasa de afiliación (%)')\n",
    "plt.title('Tasa de afiliación a sistema de salud por tasa de pobreza por ingresos en cada comuna')\n",
    "plt.legend()\n",
    "plt.show()"
   ]
  },
  {
   "cell_type": "markdown",
   "metadata": {},
   "source": [
    "## Ejercicios\n",
    "\n",
    "**1.-** Defina una función que dependa de un factor $c$, de forma tal de explorar soluciones al sistema\n",
    "\n",
    "$$ \\begin{matrix}\n",
    "x_1+x_2-x_3& = &1\\\\\n",
    "x_1+cx_2+3x_3& = &2\\\\\n",
    "2x_1+3x_2+cx_3 & = &3\\end{matrix}$$\n",
    "\n",
    "**2.-** Para los datos de tasa de pobreza por ingreso y tasa de afiliación a ISAPRE, plantee un modelo de tipo cuadrático y otro de tipo exponencial, es decir, utilice los supuestos \n",
    "\n",
    "$$ \\begin{matrix}\n",
    "y & = & ax^2+bx+c\\\\\n",
    "y & = & ae^{-x}+b\\end{matrix}$$\n",
    "\n",
    "por separado, y compare sus resultados. ¿Cómo podría cuantificar el error asociado a cada uno de los modelos?\n",
    "\n",
    "**3.-** Para los datos del archivo USDMensual.csv, proponga un modelo que pueda transformarse a un problema lineal como en los casos anteriores e intente ajustar los datos en un gráfico. Puede probar con un modelo polinomial, trigonométrico, exponencial, logarítmico, etc. teniendo en cuenta que el modelo debe responder a algo de sentido común. Recuerde que puede importar un archivo CSV como en el Laboratorio 4."
   ]
  },
  {
   "cell_type": "code",
   "execution_count": null,
   "metadata": {},
   "outputs": [],
   "source": []
  }
 ],
 "metadata": {
  "kernelspec": {
   "display_name": "Python 3",
   "language": "python",
   "name": "python3"
  },
  "language_info": {
   "codemirror_mode": {
    "name": "ipython",
    "version": 3
   },
   "file_extension": ".py",
   "mimetype": "text/x-python",
   "name": "python",
   "nbconvert_exporter": "python",
   "pygments_lexer": "ipython3",
   "version": "3.7.7"
  }
 },
 "nbformat": 4,
 "nbformat_minor": 4
}
