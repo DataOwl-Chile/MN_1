{
 "cells": [
  {
   "cell_type": "markdown",
   "metadata": {},
   "source": [
    "<p><img alt=\"DataOwl\" width=150 src=\"http://gwsolutions.cl/Images/dataowl.png\", align=\"left\", hspace=0, vspace=5></p>\n",
    "\n",
    "<h1 align=\"center\">Probabilidades</h1>\n",
    "\n",
    "<h4 align=\"center\">Concepto de integral definida y Métodos Monte-Carlo</h4>\n",
    "<pre><div align=\"center\"> La idea de este notebook es que sirva para iniciarse en conceptos\n",
    "básicos del Probabilidades, Cálculo Integral y los métodos disponibles\n",
    "para la generación de datos pseudo-aleatorios.</div>"
   ]
  },
  {
   "cell_type": "markdown",
   "metadata": {},
   "source": [
    "## Probabilidades\n",
    "\n",
    "## 6. Momentos de una distribución\n",
    "\n",
    "En principio, dado un estudio en el cual haya información recolectada, podríamos no saber muy bien qué tipos de distribución siguen nuestros datos. Sin embargo, si tenemos una idea de cuál podría ser, es posible aproximar los parámetros de los que depende solo viendo el comportamiento gráfico de la distribución. Esto es posible gracias al algunos valores característicos de las distribuciones llamados **momentos**.\n",
    "\n",
    "Los más utilizados son los llamados *primeros momentos*, donde aparecen la esperanza, varianza, asimetría y curtosis, entre otras.\n",
    "\n",
    "### 6.1 Distribuciones discretas\n",
    "\n",
    "Para una variable aleatoria discreta definida sobre un espacio muestral $\\Omega$ con función densidad $f_X$, se define su **esperanza** (*expected value*) como\n",
    "\n",
    "$$\\mathbb{E}[X]=\\sum_{k\\in\\Omega}k\\cdot f_X(k)=\\mu$$\n",
    "\n",
    "Ésta se interpreta como el valor que se espera obtener la mayor cantidad de veces en un experimento realizado de forma sucesiva *ad infinitum*.\n",
    "\n",
    "Se define la **varianza** (*variance*) como\n",
    "\n",
    "$$\\mathbb{E}[(X-\\mu)^2]=\\sum_{k\\in\\Omega}(k-\\mu)^2\\cdot f_X(k)=\\mathbb{E}[X^2]-\\mu^2=\\sigma^2$$\n",
    "\n",
    "y se interpreta como el grado de dispersión que se espera tener de los datos, es decir, qué tan \"repartidos\" están los resultados.\n",
    "\n",
    "Se define la **asimetría** (*skewness*) como\n",
    "\n",
    "$$\\mathbb{E}\\left[\\left(\\frac{X-\\mu}{\\sigma}\\right)^3\\right]=\\sum_{k\\in\\Omega} \\left(\\frac{k-\\mu}{\\sigma}\\right)^3\\cdot f_X(k)=\\frac{\\mathbb{E}\\left[X^3\\right]-3\\mu\\sigma^2-\\mu^3}{\\sigma^3}=\\gamma$$\n",
    "\n",
    "que puede interpretarse como el grado de distancia entre las regiones con mayor densidad respecto de un eje de simetría, o bien como qué tan \"desbalanceada\" está la función densidad.\n",
    "\n",
    "Finalmente, la **curtosis** (*kurtosis*) como\n",
    "\n",
    "$$\\mathbb{E}\\left[\\left(\\frac{X-\\mu}{\\sigma}\\right)^4\\right]=\\kappa$$\n",
    "\n",
    "y mide la propensión de la distribución a generar datos muy poco frecuentes (*outliers*).\n",
    "\n",
    "Si bien existe una fórmula cerrada para cada uno de estos momentos (y aquellos de orden superior), no es tan frecuente el uso de otros fuera de los listados, entre otras razones ya que las expresiones obtenidas no son muy compactas.\n",
    "\n",
    "Como ejercicio, puede buscar la lista de distribuciones discretas vistas en la clase anterior y obtener una expresión para cada momento.\n"
   ]
  },
  {
   "cell_type": "code",
   "execution_count": 1,
   "metadata": {},
   "outputs": [],
   "source": [
    "# Importando las librerías\n",
    "import matplotlib.colors as mcolors\n",
    "import matplotlib.pyplot as plt\n",
    "import numpy as np\n",
    "import experimento7 as ex\n",
    "\n",
    "# En los siguientes bloques, se evaluará de forma explícita las pdf y CDF dadas, y también se\n",
    "# aproximará mediante muestreos aleatorios para las distribuciones correspondientes"
   ]
  },
  {
   "cell_type": "code",
   "execution_count": null,
   "metadata": {},
   "outputs": [],
   "source": [
    "# Cálculo exacto de esperanza\n",
    "p = 0.75\n",
    "\n",
    "N = 25\n",
    "Omega = np.linspace(0, N, N+1)\n",
    "mu = 0\n",
    "\n",
    "for k in Omega:\n",
    "    mu += k * ex.binomial(int(k), N, p)\n",
    "\n",
    "# Cálculo exacto de varianza\n",
    "var = 0\n",
    "\n",
    "for k in Omega:\n",
    "    var += (k - mu) ** 2 * ex.binomial(int(k), N, p)\n"
   ]
  },
  {
   "cell_type": "code",
   "execution_count": null,
   "metadata": {},
   "outputs": [],
   "source": [
    "# Estimador insesgado para la esperanza sum(xn)/n\n",
    "\n",
    "M = 10\n",
    "\n",
    "tamano_muestras = np.linspace(1, M + 1, M + 1)\n",
    "\n",
    "datos_aleatorios = np.random.uniform (1, 7, M)\n",
    "\n",
    "proms = []\n",
    "\n",
    "for i in range(M):\n",
    "    avg = np.mean(datos_aleatorios[0 : i])\n",
    "    proms.append(proms)\n",
    "\n",
    "proms = np.asarray(proms)\n",
    "\n",
    "# Estimador insesgado para la varianza sum((xn-mu)**2)/(n-1)\n",
    "\n",
    "\n"
   ]
  },
  {
   "cell_type": "code",
   "execution_count": null,
   "metadata": {},
   "outputs": [],
   "source": [
    "plt.plot(tamano_muestras, proms, '.r')\n",
    "plt.plot(tamano_muestras, mu * np.ones((M, 1)), '-b')\n",
    "plt.show()"
   ]
  },
  {
   "cell_type": "markdown",
   "metadata": {},
   "source": [
    "### 6.2 Distribuciones continuas\n",
    "\n",
    "Similarmente al caso discreto, si se tiene una variable aleatoria continua $X$ definida en un espacio muestral $\\Omega$, podemos definir sus momentos de forma análoga a lo anterior:\n",
    "\n",
    "$$\\mathbb{E}[X]=\\int_{\\Omega}x\\cdot f_X(x)dx=\\mu$$\n",
    "\n",
    "$$\\mathbb{E}[(X-\\mu)^2]=\\int_{\\Omega}(x-\\mu)^2\\cdot f_X(x)dx=\\sigma^2$$\n",
    "\n",
    "$$\\mathbb{E}\\left[\\left(\\frac{X-\\mu}{\\sigma}\\right)^3\\right]=\\int_{\\Omega} \\left(\\frac{x-\\mu}{\\sigma}\\right)^3\\cdot f_X(x)dx=\\gamma$$\n",
    "\n",
    "$$\\mathbb{E}\\left[\\left(\\frac{X-\\mu}{\\sigma}\\right)^4\\right]=\\kappa$$\n",
    "\n",
    "La interpretación en todos los casos es la misma, aunque siempre se debe tener la precaución de hacer la distinción entre la naturaleza discreta y la continua para evitar errores en la lectura de datos.\n",
    "\n",
    "También se propone como ejercicio buscar los momentos de las distribuciones continuas vistas la clase anterior.\n"
   ]
  },
  {
   "cell_type": "code",
   "execution_count": null,
   "metadata": {},
   "outputs": [],
   "source": []
  },
  {
   "cell_type": "code",
   "execution_count": null,
   "metadata": {},
   "outputs": [],
   "source": []
  },
  {
   "cell_type": "markdown",
   "metadata": {},
   "source": [
    "## 7. Teorema del Límite Central\n",
    "\n",
    "Este teorema justifica algunos supuestos que se asumen en ciertos estudios de índole estadístico. A grandes rasgos, establece que un mismo experimento realizado múltiples veces de forma independiente (es decir, que un resultado no debe afectar o verse afectado por otro) tenderá a tener valores promedio cercanos a como se comporta una distribución normal. Por lo tanto, los valores intermedios, tendrán mayor peso estadístico que los valores extremos.\n",
    "\n",
    "Matemáticamente se encuncia como que si se tiene una sucesión de variables aleatorias $\\{X_n\\}_n$ independientes e idénticamente distribuidas (iid), todas con esperanza $\\mu$ y variaza $\\sigma^2$, entonces\n",
    "\n",
    "$$\\displaystyle\\lim_{n\\rightarrow\\infty}\\mathbb{P}\\left[\\frac{(X_1-\\mu)+(X_2-\\mu)+\\ldots+(X_n-\\mu)}{\\sqrt{n\\sigma^2}}\\le z\\right]=\\Phi(z)$$\n",
    "\n",
    "donde $\\Phi(z)=\\displaystyle\\frac{1}{\\sqrt{2\\pi}}\\int_{-\\infty}^ze^{-\\frac{x^2}{2}}dx$ (distribución normal con media $0$ y varianza $1$)."
   ]
  },
  {
   "cell_type": "code",
   "execution_count": null,
   "metadata": {},
   "outputs": [],
   "source": [
    "import matplotlib.animation as animation\n",
    "%matplotlib notebook"
   ]
  },
  {
   "cell_type": "code",
   "execution_count": null,
   "metadata": {},
   "outputs": [],
   "source": [
    "# muestras\n",
    "n = 5000\n",
    "\n",
    "# muestreo según alguna distribución\n",
    "avg = []\n",
    "for i in range(2, n):\n",
    "    a = np.random.uniform(1, 7, i)\n",
    "    avg.append(np.average(a))"
   ]
  },
  {
   "cell_type": "code",
   "execution_count": null,
   "metadata": {},
   "outputs": [],
   "source": [
    "# graficar histograma\n",
    "def clt(current):\n",
    "    \n",
    "    plt.cla()\n",
    "    if current == n: \n",
    "        a.event_source.stop()\n",
    "\n",
    "    plt.hist(avg[0:current], bins=50, edgecolor='k')\n",
    "\n",
    "    plt.gca().set_title('Valor esperado')\n",
    "    plt.gca().set_xlabel('Promedio de experimentos')\n",
    "    plt.gca().set_ylabel('Frecuencia')\n",
    "\n",
    "    plt.annotate('Experimento = {}'.format(current), [3,27])"
   ]
  },
  {
   "cell_type": "code",
   "execution_count": null,
   "metadata": {},
   "outputs": [],
   "source": [
    "fig = plt.figure()\n",
    "a = animation.FuncAnimation(fig, clt, interval=10)"
   ]
  },
  {
   "cell_type": "markdown",
   "metadata": {},
   "source": [
    "## 8. Métodos Monte-Carlo\n",
    "\n",
    "Los métodos Monte-Carlo son algoritmos de diversa índole, cuya heurística incorpora pasos en los que hay grados de incerteza, los que son aprovechados en cada programa para realizar cálculos sin necesidad de establecer relaciones muy complejas.\n",
    "\n",
    "Ejemplos de su uso hay varios, aunque los más populares se encuentran en el análisis de sensibilidad de funciones (una forma indirecta de cálculo de derivada), en el cálculo de integrales numéricas (para conocer áreas, volúmenes, probabilidades) y en la exploración de dominios en general (llamados paseos aleatorios). En esta parte del curso, abordaremos las dos últimas, pues la parte de derivación ya fue vista con otros métodos. Sin embargo, eventualmente haremos referencia al análisis de sensibilidad de modelos.\n",
    "\n",
    "### 8.1 Integración Numérica\n",
    "\n",
    "Supongamos que deseamos conocer el que se encuentra limitada en un dibujo y que éste puede expresarse a través de funciones. Si hacemos \"llover\" puntos sobre este dibujo, una forma muy sencilla de aproximar el área es contar la cantidad de puntos que cayó dentro del dibujo, ignorando los que no. Esto nos da una fórmula bastante sencilla para la aproximación, suponiendo una cantidad robusta de puntos:\n",
    "\n",
    "$$A_{\\textrm{dibujo}}=A_{\\textrm{cuadro}}\\cdot\\frac{|\\textrm{Puntos dentro}|}{|\\textrm{Puntos muestra}|}$$\n",
    "\n",
    "Por lo general, para recoger la muestra de puntos, se suele limitar el contexto en que se encuentra el dibujo y se utiliza distribuciones apropiadas a la figura, aunque siempre es posible utilizar simplemente la distribución uniforme. La ventaja de usar otras distribuciones está en obtener convergencia al resultado real en menor cantidad de tiempo."
   ]
  },
  {
   "cell_type": "code",
   "execution_count": 37,
   "metadata": {},
   "outputs": [
    {
     "data": {
      "image/png": "[encoded data removed]",
      "text/plain": [
       "<Figure size 432x288 with 1 Axes>"
      ]
     },
     "metadata": {
      "needs_background": "light"
     },
     "output_type": "display_data"
    }
   ],
   "source": [
    "# Definir alguna función y graficarla con limites fijos\n",
    "l = 2\n",
    "\n",
    "x = np.linspace(0, 10, 500)\n",
    "f = (x - 0.5) ** 2 * l * np.exp(-l * x)\n",
    "\n",
    "plt.plot(x, f, '-r')\n",
    "plt.show()"
   ]
  },
  {
   "cell_type": "code",
   "execution_count": 38,
   "metadata": {},
   "outputs": [
    {
     "data": {
      "image/png": "[encoded data removed]",
      "text/plain": [
       "<Figure size 432x288 with 1 Axes>"
      ]
     },
     "metadata": {
      "needs_background": "light"
     },
     "output_type": "display_data"
    }
   ],
   "source": [
    "# Estimar área\n",
    "tamano = 100000\n",
    "\n",
    "a = 0\n",
    "b = 10\n",
    "c = 0\n",
    "d = 0.5\n",
    "\n",
    "A_cuadro = (b - a) * (d - c)\n",
    "\n",
    "x_muestra = np.random.uniform(a, b, tamano)\n",
    "y_muestra = np.random.uniform(c, d, tamano)\n",
    "\n",
    "plt.plot(x_muestra, y_muestra, '.b')\n",
    "plt.plot(x, f, '-r')\n",
    "plt.show()"
   ]
  },
  {
   "cell_type": "code",
   "execution_count": 39,
   "metadata": {},
   "outputs": [
    {
     "name": "stdout",
     "output_type": "stream",
     "text": [
      "0.2492\n"
     ]
    }
   ],
   "source": [
    "cuenta = 0\n",
    "\n",
    "for i in range(tamano):\n",
    "    if (a <= x_muestra[i] <= b) and (0 <= y_muestra[i] <= (x_muestra[i] - 0.5) ** 2 * l * np.exp(-l * x_muestra[i])):\n",
    "        cuenta += 1\n",
    "\n",
    "A_dibujo = A_cuadro * cuenta / tamano\n",
    "print(A_dibujo)"
   ]
  },
  {
   "cell_type": "markdown",
   "metadata": {},
   "source": [
    "\n",
    "\n"
   ]
  },
  {
   "cell_type": "markdown",
   "metadata": {},
   "source": [
    "## Ejercicios\n",
    "\n",
    "Utilice alguna forma de muestreo de Monte Carlo para resolver los siguientes problemas (puede convenir antes graficar los objetos mencionados, ya sea en computador o a mano):\n",
    "\n",
    "**a)**  Encontrar el área bajo la curva de la función\n",
    "\n",
    "entre $-\\infty$ hasta cierto valor $t<\\infty$ de su elección. Para ello, puede notar gráficamente que la función es prácticamente nula para valores $x<-10$. Note además que calcular esta integral equivale a calcular $\\mathbb{P}[X\\le t]$, cuando $X$ es una variable aleatoria normal de media $0$ y varianza $1$.\n",
    "\n",
    "<br>\n",
    "\n",
    "**b)** Encontrar la esperanza de una variable aleatoria $X$ que sigue una distribución $\\chi^2(k)$ (chi-cuadrado de parámetro $k$), dada por la pdf\n",
    "\n",
    "$$f(x) =  \\left\\{ \\begin{matrix}\n",
    "\\frac{x^{\\frac{k}{2}-1}e^{-\\frac{x}{2}}}{2^{\\frac{k}{2}}\\Gamma\\left(\\frac{k}{2}\\right)} & , & x>0\\\\\n",
    "0 & , & \\sim\\end{matrix} \\right.$$\n",
    "\n",
    "donde $\\Gamma(x)$ es la función Gamma, que puede ser llamada desde Scipy con los comandos\n",
    "\n",
    "``` Python\n",
    "from scipy.special import gamma\n",
    "\n",
    "gamma(x)  # x puede ser un arreglo\n",
    "\n",
    "```\n",
    "\n",
    "Note que $k$ es un número natural distinto de $0$ que permanece fijo y debe ser de su elección. Compare su resultado con el obtenido del artículo de <a href='https://en.wikipedia.org/wiki/Chi-square_distribution'>referencia</a>.\n",
    "\n",
    "<br>\n",
    "\n",
    "**c)** Encontrar el volumen encerrado bajo el cono de ecuación $x^2+y^2=z^2$, dentro el cilindro de ecuación $(x-1)^2+y^2=1$ y sobre el plano $z=0$. Intente generalizar el resultado anterior para un cilindro de ecuación $(x-a)^2+y^2=a^2$, con $0<a\\le1$."
   ]
  },
  {
   "cell_type": "code",
   "execution_count": null,
   "metadata": {},
   "outputs": [],
   "source": []
  }
 ],
 "metadata": {
  "kernelspec": {
   "display_name": "Python 3",
   "language": "python",
   "name": "python3"
  },
  "language_info": {
   "codemirror_mode": {
    "name": "ipython",
    "version": 3
   },
   "file_extension": ".py",
   "mimetype": "text/x-python",
   "name": "python",
   "nbconvert_exporter": "python",
   "pygments_lexer": "ipython3",
   "version": "3.7.7"
  }
 },
 "nbformat": 4,
 "nbformat_minor": 4
}
