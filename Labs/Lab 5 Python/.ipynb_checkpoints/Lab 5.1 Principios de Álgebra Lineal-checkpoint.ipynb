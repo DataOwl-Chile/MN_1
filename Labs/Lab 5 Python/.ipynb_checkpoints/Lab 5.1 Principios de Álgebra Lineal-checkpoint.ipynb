{
 "cells": [
  {
   "cell_type": "markdown",
   "metadata": {},
   "source": [
    "<p><img alt=\"DataOwl\" width=150 src=\"http://gwsolutions.cl/Images/dataowl.png\", align=\"left\", hspace=0, vspace=5></p>\n",
    "\n",
    "<h1 align=\"center\">Álgebra Lineal</h1>\n",
    "\n",
    "<h4 align=\"center\">Ecuaciones lineales de varias variables y su resolución</h4>\n",
    "<pre><div align=\"center\"> La idea de este notebook es que sirva para iniciarse en conceptos\n",
    "básicos del Álgebra Lineal y sus métodos de resolución en el\n",
    "contexto de sistemas de ecuaciones lineales.</div>"
   ]
  },
  {
   "cell_type": "markdown",
   "metadata": {},
   "source": [
    "## Álgebra Lineal\n",
    "\n",
    "## 1. Introducción\n",
    "\n",
    "\n",
    "En un sentido algo abstracto, el Álgebra Lineal es el estudio matemático de objetos que, si por separado tienen una propiedad dada, en conjunto tienen la añadidura de estas propiedades. Llevado a un lenguaje más concreto, si dos objetos tienen cierta propiedad, la suma de dichos objetos tiene por propiedad la suma de las propiedades por separado.\n",
    "\n",
    "Las dos estructuras más importantes en esta área son los espacios vectoriales y las funciones lineales, de los cuales haremos un breve repaso para introducir el tipo de problemas que esperamos resolver en este curso."
   ]
  },
  {
   "cell_type": "markdown",
   "metadata": {},
   "source": [
    "### 1.1 Espacios vectoriales\n",
    "\n",
    "Consideremos el conjunto de escalares dado por los números reales $\\mathbb{R}$, junto con una operación $\\odot$. Además, consideremos un conjunto $V$ dado y una operación $\\oplus$. Decimos que $\\oplus$ es una **ley de composición interna** (l.c.i.) en $V$ si\n",
    "\n",
    "$$(\\forall\\ \\vec{u},\\vec{v}\\in V)\\quad \\vec{u}\\oplus\\vec{v}\\in V$$\n",
    "\n",
    "y que $\\odot$ es una **ley de composición externa** (l.c.e.) de $\\mathbb{R}$ en $V$ si\n",
    "\n",
    "$$(\\forall\\ \\lambda\\in\\mathbb{R},\\ \\vec{u}\\in V)\\quad \\lambda\\odot\\vec{u}\\in V$$\n",
    "\n",
    "Por ejemplo, si consideramos el conjunto $V$ como las funciones continuas en el intervalo $[a, b]$, tendremos que la operación $+$ (suma de funciones) es ley de composición interna en $V$. Además, se puede usar la operación $\\cdot$ como producto escalar, la cual es ley de composición externa de $\\mathbb{R}$ en $V$.\n",
    "\n",
    "Se dice que $V$ es un **espacio vectorial real** con respecto a la l.c.i. $\\oplus$ y la l.c.e. $\\odot$ si se cumple\n",
    "\n",
    "<ul>\n",
    "    <li>Asociatividad:  $(\\forall\\ \\vec{u},\\ \\vec{v},\\ \\vec{w}\\in V)\\quad (\\vec{u}\\oplus\\vec{v})\\oplus\\vec{w}\\ =\\ \\vec{u}\\oplus(\\vec{v}\\oplus\\vec{w})$<br></li>\n",
    "    <br>\n",
    "    <li>Conmutatividad:  $(\\forall\\ \\vec{u},\\ \\vec{v}\\in V)\\quad\\quad \\vec{u}\\oplus\\vec{v}\\ =\\ \\vec{v}\\oplus\\vec{u}$</li>\n",
    "    <br>\n",
    "    <li>Elemento neutro:  $(\\exists\\ \\vec{0}_V\\in V)\\ (\\forall\\ \\vec{u}\\in V)\\quad\\quad \\vec{0}_V\\oplus\\vec{u}\\ =\\ \\vec{u}\\oplus\\vec{0}_V\\ =\\ \\vec{u}$</li>\n",
    "    <br>\n",
    "    <li>Elemento inverso:  $(\\forall\\ \\vec{u}\\in V)\\ (\\exists\\ \\vec{u^{-1}}\\in V)\\quad\\quad \\vec{u}^{-1}\\oplus\\vec{u}\\ =\\ \\vec{u}\\oplus\\vec{u}^{-1}\\ =\\ \\vec{0}_V$</li>\n",
    "    <br>\n",
    "    <li>Compatibilidad:  $(\\forall\\ \\alpha,\\ \\beta\\in\\mathbb{R},\\ \\vec{u}\\in V)\\quad \\alpha\\odot(\\beta\\odot\\vec{u})\\ =\\ (\\alpha\\cdot\\beta)\\odot\\vec{u}$</li>\n",
    "    <br>\n",
    "    <li>Identidad:  $(\\exists\\ 1_{\\mathbb{R}}\\in\\mathbb{R})\\ (\\forall\\ \\vec{u}\\in V)\\quad 1_{\\mathbb{R}}\\odot\\vec{u}\\ =\\ \\vec{u}\\odot1_{\\mathbb{R}}\\ =\\ \\vec{u}$</li>\n",
    "    <br>\n",
    "    <li>Distributividad escalar:  $(\\forall\\ \\lambda\\in\\mathbb{R},\\ \\vec{u},\\vec{v}\\in V)\\quad \\lambda\\odot(\\vec{u}\\oplus\\vec{v})\\ =\\ (\\lambda\\odot\\vec{u})\\oplus(\\lambda\\odot\\vec{v})$</li>\n",
    "    <br>\n",
    "    <li>Distributividad vectorial:  $(\\forall\\ \\alpha,\\ \\beta\\in\\mathbb{R},\\ \\vec{u}\\in V)\\quad (\\alpha+\\beta)\\odot\\vec{u}\\ =\\ (\\alpha\\odot\\vec{u})\\oplus(\\beta\\odot\\vec{u})$</li>\n",
    "</ul>\n",
    "\n",
    "Los elementos de un espacio vectorial son llamados **vectores**. Es muy sencillo comprobar que el conjunto de funciones continuas, con las operaciones antes mencionadas, forman un espacio vectorial real. Del mismo modo lo es el conjunto de funciones derivables, o dos veces derivables, etc. En estos casos, los vectores son funciones."
   ]
  },
  {
   "cell_type": "markdown",
   "metadata": {},
   "source": [
    "### 1.2 Matrices\n",
    "\n",
    "En esta parte del curso, prestaremos particular atención al conjunto de matrices reales. Una matriz no es más que un arreglo bidimensional que generaliza el concepto de vector, en el sentido en que estamos familiarizados. De manera explícita, una matriz $A$ está definida por elementos (llamados coeficientes) dispuestos en filas y columnas, las cuales indican a qué coeficiente hacemos referencia:\n",
    "\n",
    "$$A\\ =\\  \n",
    "\\begin{bmatrix}\n",
    "a_{11}&a_{12}&a_{13}&\\dots&a_{1n}\\\\\n",
    "a_{21}&a_{22}&a_{23}&\\dots&a_{2n}\\\\\n",
    "a_{31}&a_{32}&a_{33}& &\\vdots\\\\\n",
    "\\vdots&\\vdots& &\\ddots& \\\\\n",
    "a_{m1}&a_{m2}&\\dots& &a_{mn}\\end{bmatrix}$$\n",
    "\n",
    "Se suele usar por convención que una matriz genérica con $m$ filas y $n$ columnas es una matriz de dimensiones $m\\times n$. Si $m=n$, se dice que la matriz es **cuadrada**. Además, se denota\n",
    "\n",
    "$$A_{i,j}\\ =\\ a_{ij}\\qquad 1\\le i\\le m,\\ 1\\le j\\le n$$\n",
    "\n",
    "Es posible sumar y ponderar las matrices. Usando la notación anterior, si tenemos dos matrices $A$ y $B$, ambas de iguales dimensiones $m\\times n$, y $\\lambda\\in\\mathbb{R}$:\n",
    "\n",
    "$$\\begin{matrix}\n",
    "C&=&A+B&\\longleftrightarrow &C_{i,j}&=&A_{i,j}+B_{i,j}\\\\\n",
    "C&=&\\lambda\\cdot A&\\longleftrightarrow &C_{i,j}&=&\\lambda\\cdot A_{i,j}\\end{matrix}$$\n",
    "\n",
    "Es fácil probar que, con estas operaciones, se puede hablar de un espacio vectorial de **matrices a coeficientes reales** o espacio matricial, que denotaremos por $\\mathcal{M}_{m,n}(\\mathbb{R})$."
   ]
  },
  {
   "cell_type": "code",
   "execution_count": 1,
   "metadata": {},
   "outputs": [],
   "source": [
    "# Importando las librerías\n",
    "import matplotlib.colors as mcolors\n",
    "import matplotlib.pyplot as plt\n",
    "import numpy as np"
   ]
  },
  {
   "cell_type": "code",
   "execution_count": 9,
   "metadata": {},
   "outputs": [],
   "source": [
    "# ¿Cómo se define una matriz en Python?\n",
    "\n",
    "# Forma 1: mediante listas\n",
    "\n",
    "matriz_lista = [[3, 4, 5], [1, 2, 3], [-1, 0, 1], [2, 4, 6]] # cada sublista es una fila; todas deben tener igual tamaño\n",
    "matriz1a = np.asarray(matriz_lista)\n",
    "matriz1b = np.array(matriz_lista)\n",
    "matriz1c = np.matrix(matriz_lista)\n",
    "\n",
    "# Forma 2: a partir de un vector\n",
    "\n",
    "vec = np.arange(0, 12)\n",
    "matriz2 = np.matrix(vec.reshape((3, 4)))  # es necesario que el argumento de reshape(m,n) satisfaga n * m = len(vec)\n",
    "\n",
    "# Forma 3: por construcción explícita\n",
    "\n",
    "matriz3 = np.zeros((4, 3)) # matriz sólo de 0 de dimensión 4x3. También se puede mediante np.ones(), que sólo tiene 1.\n",
    "matriz3[0, 1] = -1\n",
    "matriz3[0, 2] = 2\n",
    "matriz3[2, 1] = matriz2[0, 1] + matriz2[0, 2]\n",
    "matriz3[-1, -1] = 8\n"
   ]
  },
  {
   "cell_type": "code",
   "execution_count": 14,
   "metadata": {},
   "outputs": [
    {
     "name": "stdout",
     "output_type": "stream",
     "text": [
      "3\n",
      "4\n",
      "5\n",
      "1\n",
      "2\n",
      "3\n",
      "-1\n",
      "0\n",
      "1\n",
      "2\n",
      "4\n",
      "6\n",
      "[[ 3.  3.  7.]\n",
      " [ 1.  2.  3.]\n",
      " [-1.  3.  1.]\n",
      " [ 2.  4. 14.]]\n"
     ]
    }
   ],
   "source": [
    "# ¿Cómo obtener las dimensiones de una matriz?\n",
    "\n",
    "dim = matriz1a.shape\n",
    "fil, col = dim[0], dim[1]\n",
    "\n",
    "# Recorrer una matriz\n",
    "\n",
    "for i in range(fil):\n",
    "    for j in range(col):\n",
    "        print(matriz1a[i,j])\n",
    "\n",
    "# Suma y ponderación de matrices\n",
    "\n",
    "matriz_suma = matriz1a + matriz3\n",
    "matriz_pond = 3.5 * matriz1a\n",
    "\n",
    "print(matriz_suma)"
   ]
  },
  {
   "cell_type": "markdown",
   "metadata": {},
   "source": [
    "Existen tres operaciones más que se puede añadir a estos espacios, pero ya no forman una ley de composición interna, puesto que su resultado no necesariamente pertenece al mismo espacio matricial:\n",
    "\n",
    "<ul>\n",
    "    <li><b>Trasposición</b> (op. unaria): se trata de definir una nueva matriz, tomando cada fila de la matriz original, y disponiéndolas como columnas. Se denota por $A^{\\top}$, y se tiene que \n",
    "    <br>    \n",
    "    <br>$$\\left(A^{\\top}\\right)_{i,j}=A_{j,i}$$\n",
    "    <br>Es claro que $\\left(A^{\\top}\\right)^{\\top}$. La traspuesta de una matriz de dimensiones $m\\times n$ resulta tener dimensiones $n\\times m$. En el caso particular de vectores, al trasponerlos éstos pasan de ser vector fila a ser vector columna, y viceversa. Además, se dice que una matriz cuadrada es <b>simétrica</b> si $A^{\\top}=A$.</li>\n",
    "</ul>"
   ]
  },
  {
   "cell_type": "code",
   "execution_count": 16,
   "metadata": {},
   "outputs": [
    {
     "name": "stdout",
     "output_type": "stream",
     "text": [
      "[[ 3  4  5]\n",
      " [ 1  2  3]\n",
      " [-1  0  1]\n",
      " [ 2  4  6]]\n",
      "[[ 3.  1. -1.  2.]\n",
      " [ 4.  2.  0.  4.]\n",
      " [ 5.  3.  1.  6.]]\n"
     ]
    }
   ],
   "source": [
    "# Definir traspuesta a mano y con Numpy\n",
    "\n",
    "# A mano\n",
    "\n",
    "def trasp(A):\n",
    "    dim = A.shape\n",
    "    fil, col = dim[0], dim[1]\n",
    "    A_t = np.zeros((col, fil))\n",
    "    \n",
    "    for i in range(col):\n",
    "        for j in range(fil):\n",
    "            A_t[i, j] = A[j, i]\n",
    "    \n",
    "    return A_t\n",
    "\n",
    "matriz1a_t = trasp(matriz1a)\n"
   ]
  },
  {
   "cell_type": "code",
   "execution_count": 19,
   "metadata": {},
   "outputs": [
    {
     "name": "stdout",
     "output_type": "stream",
     "text": [
      "[[ 3  4  5]\n",
      " [ 1  2  3]\n",
      " [-1  0  1]\n",
      " [ 2  4  6]] \n",
      "\n",
      "[[ 3  1 -1  2]\n",
      " [ 4  2  0  4]\n",
      " [ 5  3  1  6]]\n"
     ]
    }
   ],
   "source": [
    "# Con Numpy\n",
    "\n",
    "matriz1a_t = matriz1a.transpose()\n",
    "\n",
    "print(matriz1a, '\\n')\n",
    "print(matriz1a_t)\n"
   ]
  },
  {
   "cell_type": "markdown",
   "metadata": {},
   "source": [
    "<ul><li><b>Multiplicación</b> (op. binaria): una de las formas de multiplicar matrices es la que se muestra aquí, realizando una operación entre matrices de distinta dimensión, con la condición que la primera matriz tenga dimensiones $m\\times n$ y la segunda tenga dimensiones $n\\times p$. El resultado será una matriz de dimensiones $m\\times p$, dada por\n",
    "        <br>\n",
    "        <br>$$C=A\\cdot B\\ \\longleftrightarrow\\ C_{i,j}=\\sum_{k=1}^nA_{i,k}\\cdot B_{k,j}$$\n",
    "        <br><img  src=\"https://www.cairographics.org/cookbook/matrix_transform/matrix_multiplication.gif\" alt=\"Multiplicación de matrices\" width=800 align=\"center\" hspace=0 vspace=5 padding:5px /> \n",
    "        <br>Esta multiplicación <b>no</b> es conmutativa, aunque sí satisface\n",
    "    <br>\n",
    "    <br>$$\\begin{matrix}\n",
    "A\\cdot(B\\cdot C) & = & (A\\cdot B)\\cdot C\\\\\n",
    "(A\\cdot B)^{\\top} & = & B^{\\top}\\cdot A^{\\top}\\end{matrix}$$\n",
    "    <br>Esta multiplicación tiene un elemento neutro, llamada <b>matriz identidad</b>, que es una matriz cuadrada $I_k$ dada por coeficientes nulos, excepto en la diagonal, con coeficiente igual a $1$:\n",
    "    <br>\n",
    "    <br>$$I_k\\ =\\  \n",
    "\\begin{bmatrix}\n",
    "1 & 0 & \\dots & 0\\\\\n",
    "0 & 1 &  & 0\\\\\n",
    "\\vdots &  & \\ddots & \\vdots\\\\\n",
    "0 & 0 & \\dots & 1\\end{bmatrix}$$\n",
    "    <br> Se dice que una matriz cuadrada $A$ tiene inversa (o es invertible) si existe otra matriz cuadrada $A^{-1}$ tal que $A\\cdot A^{-1}=A^{-1}\\cdot A=I_k$, para $k$ el número de filas de $A$.\n",
    "    <br>La razón por la cual se decide usar una operación aparentemente antojadiza la mencionamos posteriormente.</li>\n",
    "</ul>"
   ]
  },
  {
   "cell_type": "code",
   "execution_count": 22,
   "metadata": {},
   "outputs": [
    {
     "data": {
      "text/plain": [
       "array([[12.42105263, 19.78947368, 27.15789474, 34.52631579, 41.89473684],\n",
       "       [11.57894737, 27.36842105, 43.15789474, 58.94736842, 74.73684211]])"
      ]
     },
     "execution_count": 22,
     "metadata": {},
     "output_type": "execute_result"
    }
   ],
   "source": [
    "# Definir multiplicación a mano y con Numpy\n",
    "\n",
    "# A mano\n",
    "\n",
    "def prod(A, B):\n",
    "    dimA = A.shape\n",
    "    dimB = B.shape\n",
    "    colA, filB = dimA[1], dimB[0]\n",
    "        \n",
    "    if colA != filB:\n",
    "        print('Dimensiones no compatibles')\n",
    "        return None\n",
    "    \n",
    "    else:\n",
    "        filA, colB = dimA[0], dimB[1]\n",
    "        C = np.zeros((filA, colB))\n",
    "        \n",
    "        for i in range(filA):\n",
    "            for j in range(colB):\n",
    "                suma = 0\n",
    "                \n",
    "                for k in range(colA):\n",
    "                    suma += A[i, k] * B[k, j]\n",
    "                \n",
    "                C[i, j] = suma\n",
    "                \n",
    "        return C\n",
    "\n",
    "A = np.matrix(np.linspace(2, 9, 8).reshape(2, 4))\n",
    "B = np.matrix(np.linspace(-4, 6, 20).reshape(5, 4))\n",
    "C = np.matrix(np.linspace(-4, 6, 20).reshape(4, 5))\n",
    "\n",
    "pr1 = prod(A, C)"
   ]
  },
  {
   "cell_type": "code",
   "execution_count": null,
   "metadata": {},
   "outputs": [],
   "source": [
    "# Con Numpy\n",
    "\n",
    "pr2 = C * B\n",
    "pr3 = np.dot(C, B)"
   ]
  },
  {
   "cell_type": "markdown",
   "metadata": {},
   "source": [
    "<ul>\n",
    "    <li><b>Determinante</b> (op. unaria): es un valor escalar asociado a una matriz cuadrada, en que se calcula sumas y productos alternados por recursividad, como sigue:\n",
    "    <br>\n",
    "    <br> $$\\begin{matrix}\n",
    "A&=&\\begin{bmatrix}\n",
    "a&b\\\\\n",
    "c&d\\end{bmatrix} &\\longrightarrow &\\textrm{det}(A)=a\\cdot d-b\\cdot c \\\\\n",
    " & & & & \\\\\n",
    "A&=&\\begin{bmatrix}\n",
    "a&b&c\\\\\n",
    "d&e&f\\\\\n",
    "g&h&i\\end{bmatrix} &\\longrightarrow &\\textrm{det}(A)=\n",
    "a\\cdot\\textrm{det}\\begin{bmatrix}\n",
    "e&f\\\\\n",
    "h&i\\end{bmatrix}-\n",
    "b\\cdot\\textrm{det}\\begin{bmatrix}\n",
    "d&f\\\\\n",
    "g&i\\end{bmatrix}+\n",
    "c\\cdot\\textrm{det}\\begin{bmatrix}\n",
    "d&e\\\\\n",
    "g&h\\end{bmatrix}\\end{matrix}$$\n",
    "    <br> y así. Una propiedad muy importante del determinante, es que\n",
    "    <br>\n",
    "    <br>$$A\\ \\ \\textrm{es invertible}\\ \\Longleftrightarrow\\ \\textrm{det}(A)\\neq0$$</li>\n",
    "</ul>\n"
   ]
  },
  {
   "cell_type": "code",
   "execution_count": 23,
   "metadata": {},
   "outputs": [
    {
     "data": {
      "text/plain": [
       "65.99999999999997"
      ]
     },
     "execution_count": 23,
     "metadata": {},
     "output_type": "execute_result"
    }
   ],
   "source": [
    "# Definir determinante a mano y con Numpy\n",
    "\n",
    "# A mano: ejercicio\n",
    "\n",
    "a = np.array([[1, 2, 5], [8, 4, 6], [4, 5, 6]])\n",
    "\n",
    "np.linalg.det(a)"
   ]
  },
  {
   "cell_type": "markdown",
   "metadata": {},
   "source": [
    "El hecho de que el determinante no dé un valor entero, como debería, es debido al algoritmo que utiliza Numpy para calcularlo, el cual involucra pasos de simplificación de la matriz, al costo de sólo tener un valor aproximado. Esto tiene la ventaja de realizar el cálculo en menor tiempo que hacerlo por la vía más intuitiva (la que queda como ejercicio), pero tiene una profunda desventaja a la hora de aplicarlo en la resolución de problemas numéricos. Como veremos, será necesario calcular matrices inversas, lo que implica el cálculo de deterinantes. En un caso límite en que el determinante es cercano a $0$, una aproximación puede variar dramáticamente el resultado obtenido del resultado real. En estos casos patológicos, es mejor calcular el logaritmo con signo del determinante, usando\n",
    "```Python\n",
    "numpy.linalg.slogdet(a)\n",
    "```"
   ]
  },
  {
   "cell_type": "code",
   "execution_count": null,
   "metadata": {
    "code_folding": [
     0
    ]
   },
   "outputs": [],
   "source": []
  },
  {
   "cell_type": "markdown",
   "metadata": {},
   "source": [
    "### 1.3 Sistemas de ecuaciones lineales\n",
    "\n",
    "\n",
    "### 1.4 Funciones lineales\n",
    "\n",
    "\n"
   ]
  },
  {
   "cell_type": "code",
   "execution_count": null,
   "metadata": {},
   "outputs": [],
   "source": []
  },
  {
   "cell_type": "markdown",
   "metadata": {},
   "source": []
  },
  {
   "cell_type": "markdown",
   "metadata": {},
   "source": [
    "## Ejercicios\n",
    "\n",
    "**1.-** Sea $\\vec{v}\\in\\mathbb{R}^n$ un vector. Su matriz de Vandermode se define como\n",
    "$$A_{i,j}=v_i^{n-j}\\qquad 1\\le i,j\\le n$$\n",
    "Defina una función que tome como argumento un vector (o una lista) y que retorne su matriz de Vandermode.\n",
    "\n",
    "**2.-** Intente definir una función que calcule el determinante de una matriz $A$, teniendo en cuenta la recursividad vista.\n",
    "\n",
    "**3.-** Para futuras clases, puede ser útil tener instalada la librería Scikit-Learn en su ambiente virtual. Para obenerla, en su terminal (Anaconda Prompt) ejecute el comando\n",
    "\n",
    "```cmd\n",
    "pip install -U scikit-learn\n",
    "```"
   ]
  },
  {
   "cell_type": "code",
   "execution_count": null,
   "metadata": {},
   "outputs": [],
   "source": []
  }
 ],
 "metadata": {
  "kernelspec": {
   "display_name": "Python 3",
   "language": "python",
   "name": "python3"
  },
  "language_info": {
   "codemirror_mode": {
    "name": "ipython",
    "version": 3
   },
   "file_extension": ".py",
   "mimetype": "text/x-python",
   "name": "python",
   "nbconvert_exporter": "python",
   "pygments_lexer": "ipython3",
   "version": "3.7.7"
  }
 },
 "nbformat": 4,
 "nbformat_minor": 4
}
