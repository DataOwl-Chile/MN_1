{
 "cells": [
  {
   "cell_type": "markdown",
   "metadata": {},
   "source": [
    "<p><img alt=\"DataOwl\" width=150 src=\"http://gwsolutions.cl/Images/dataowl.png\", align=\"left\", hspace=0, vspace=5></p>\n",
    "\n",
    "<h1 align=\"center\">Visualización</h1>\n",
    "\n",
    "<h4 align=\"center\">Matplotlib</h4>\n",
    "<pre><div align=\"center\"> La idea de este notebook es que sirva para iniciarse en la visualización de datos.</div>\n",
    "\n",
    "\n",
    "<div align=\"right\"> En términos de código y estructura, este notebook esta basado en\n",
    "<a href=\"https://www.kaggle.com/subinium/simple-matplotlib-visualization-tips\">Simple Matplotlib Visualization Tips</a>.\n",
    "</div></pre>"
   ]
  },
  {
   "cell_type": "markdown",
   "metadata": {},
   "source": [
    "## Visualización de datos\n",
    "\n",
    "La visualización de datos es la disciplina de tratar de comprender los datos colocándolos en un contexto visual para que los patrones, las tendencias y las correlaciones que de otro modo no podrían detectarse puedan quedar expuestos.\n",
    "\n",
    "<p><img alt=\"COVID\" width=600 src=\"https://miro.medium.com/max/700/1*N0tRnDv63278HUKF_dE4HA.png\", align=\"center\", hspace=0, vspace=5></p>\n",
    "\n",
    "Python ofrece múltiples librerías de visualización, cada una con muchas características diferentes. No importa si desea crear trazados interactivos, en vivo o altamente personalizados, Python tiene una excelente biblioteca para cada gusto y uso.\n",
    "\n",
    "Nos centraremos en introducir los gráficos de puntos básicos de **Matplotlib**. En un futuro, veremos también otros tipos de gráfico (como histogramas o gráficos de dispersión), además de las librerías **Seaborn** y **Plotly**."
   ]
  },
  {
   "cell_type": "markdown",
   "metadata": {},
   "source": [
    "<a id=\"section1\"></a>\n",
    "<h1> Matplotlib </h1>\n",
    "    \n",
    "Matplotlib es el O.G. de las librerías de visualización de datos de Python. A pesar de tener más de una década, sigue siendo la biblioteca más utilizada para graficar en la comunidad Python; fue diseñado para parecerse mucho a MATLAB, un lenguaje de programación patentado desarrollado en la década de 1980.\n",
    "\n",
    "Debido a que Matplotlib fue la primera librería de visualización de datos de Python, muchas otras librerías están construidas sobre ella o diseñadas para trabajar en conjunto con ella durante el análisis.\n",
    "\n",
    "<p><img alt=\"Pandas\" width=150 src=\"https://upload.wikimedia.org/wikipedia/commons/thumb/8/84/Matplotlib_icon.svg/1200px-Matplotlib_icon.svg.png\", align=\"right\", hspace=0, vspace=5></p>\n",
    "\n",
    "Si bien Matplotlib es bueno para tener una idea de los datos, no es muy útil para crear gráficos de calidad de publicación de manera rápida y fácil.\n",
    "\n",
    "Para instalar la librería puede hacerse a través del comando **pip** o el comando **conda** en la consola de comandos:\n",
    "\n",
    "\n",
    "\n",
    "```cmd\n",
    "conda install matplotlib\n",
    "\n",
    "pip install matplotlib\n",
    "```"
   ]
  },
  {
   "cell_type": "code",
   "execution_count": null,
   "metadata": {
    "code_folding": [
     0
    ]
   },
   "outputs": [],
   "source": [
    "# Importando las librerías\n",
    "%matplotlib notebook\n",
    "\n",
    "import numpy as np\n",
    "\n",
    "import matplotlib.pyplot as plt"
   ]
  },
  {
   "cell_type": "markdown",
   "metadata": {},
   "source": [
    "En primer lugar, queremos plasmar información en forma gráfica. Debemos saber cómo iniciar un objeto ***figura*** y cómo añadir elementos en él. Conforme avancemos en el curso, veremos muchas prestaciones que ofrecen los módulos de Matplotlib, cómo manipular sus objetos y qué limitaciones tienen."
   ]
  },
  {
   "cell_type": "code",
   "execution_count": null,
   "metadata": {
    "code_folding": [
     0
    ]
   },
   "outputs": [],
   "source": [
    "# Forma 1a (figura vacía)\n",
    "plt.figure()\n",
    "\n",
    "# Forma 1b (figura vacía numerada)\n",
    "plt.figure(1)\n",
    "\n",
    "# Forma 2a (forma pro)\n",
    "fig1 = plt.figure(figsize=(8, 5))\n",
    "\n",
    "# Forma 2b (forma más pro)\n",
    "fig2, axes = plt.subplots(2, 3, figsize=(8, 5))"
   ]
  },
  {
   "cell_type": "markdown",
   "metadata": {},
   "source": [
    "Notemos una diferencia entre definir una figura vacía y una figura definida de forma pro: en el segundo caso, la figura pasa a ser un objeto asignado a las variables **fig1** y **fig2**. Por esto, **fig1** y **fig2** tienen \"valor\" distinto y se les puede cambiar sus atributos de forma independiente. En el caso de la figura vacía y la figura vacía numerada, se puede cambiar sus atributos de forma más limitada (es decir, habrá aspectos que será mucho más difícil o imposibles cambiarlos) y siempre que no se defina una nueva figura vacía."
   ]
  },
  {
   "cell_type": "markdown",
   "metadata": {},
   "source": [
    "### 1.0 Configuraciones iniciales\n",
    "\n",
    "Algo que rara vez se hace y debiera ser necesario antes de cualquier visualización en notebooks, es establecer la resolución a través de la configuración **dpi** (dots per inch) de la figura. Matplotlib tiene una resolución predeterminada baja, por lo que configurarla a medida hace que los gráficos se vean mejor."
   ]
  },
  {
   "cell_type": "code",
   "execution_count": null,
   "metadata": {
    "code_folding": [
     0
    ]
   },
   "outputs": [],
   "source": [
    "# Estableciendo la resolución de las figuras\n",
    "\n",
    "plt.rcParams['figure.dpi'] = 60"
   ]
  },
  {
   "cell_type": "markdown",
   "metadata": {},
   "source": [
    "Existe una cierta anatomía de una figura realizada con matplotlib (Y con cualquier librería de visualización), la cual podemos apreciar a priori en la siguiente imagen.\n",
    "\n",
    "<p><img alt=\"COVID\" width=600 src=\"https://scontent.fscl6-1.fna.fbcdn.net/v/t1.0-9/101147394_10223322201184885_7931971586804940800_n.jpg?_nc_cat=100&_nc_sid=8024bb&_nc_ohc=7s50oZWJPegAX97cGCE&_nc_ht=scontent.fscl6-1.fna&oh=bb8b9a6a22cf1564b02d3a5d3144c1a5&oe=5F00954B\", align=\"center\", hspace=0, vspace=5></p>\n"
   ]
  },
  {
   "cell_type": "markdown",
   "metadata": {},
   "source": [
    "### 1.1 Gráficos básicos\n",
    "\n",
    "Lo primero que haremos es plotear dos vectores de la misma dimensión, uno correspondiente al **eje x** y otro al **eje y**. Este es el gráfico más básico que podemos obtener con Matplotlib."
   ]
  },
  {
   "cell_type": "code",
   "execution_count": null,
   "metadata": {
    "code_folding": [
     0
    ]
   },
   "outputs": [],
   "source": [
    "# Gráfico de linea en 2D\n",
    "\n",
    "x = [2 , 4 , 6 , 8]\n",
    "y = [5 , 6 , 2 , 9]\n",
    "\n",
    "plt.plot(x,y)\n",
    "plt.show()"
   ]
  },
  {
   "cell_type": "markdown",
   "metadata": {},
   "source": [
    "Podemos añadir un color distinto a la linea que graficamos anteriormente mediante el argumento opcional **color**."
   ]
  },
  {
   "cell_type": "code",
   "execution_count": null,
   "metadata": {
    "code_folding": [
     0
    ]
   },
   "outputs": [],
   "source": [
    "# Agregando color\n",
    "\n",
    "x = [2 , 4 , 6 , 8]\n",
    "y = [5 , 6 , 2 , 9]\n",
    "z = [-1, 3, 2, 10]\n",
    "\n",
    "plt.plot(x, y, color = 'red')\n",
    "plt.plot(x, z, color = 'green')\n",
    "plt.show()"
   ]
  },
  {
   "cell_type": "markdown",
   "metadata": {},
   "source": [
    "Además podemos darle más características al gráfico, asi como título, leyenda y ejes, no obstante debemos definirlos como nuevos elementos para añadirlos a este."
   ]
  },
  {
   "cell_type": "code",
   "execution_count": null,
   "metadata": {
    "code_folding": [
     0
    ]
   },
   "outputs": [],
   "source": [
    "# Agregando título, leyenda y ejes\n",
    "\n",
    "x = [2 , 4 , 6 , 8]\n",
    "y = [5 , 6 , 2 , 9]\n",
    "z = [-1, 2.3, 11, 4]\n",
    "\n",
    "plt.plot( x , y , color = 'red', label = 'Mi línea', marker = 'o', linestyle = '--')\n",
    "plt.plot( x , z , color = 'green', label = 'Mi otra línea', marker = 'x', linestyle = '-.')\n",
    "plt.title('Mi gráfico', color = 'blue')\n",
    "\n",
    "plt.legend() # Agrega la leyenda al gráfico. Si no está, no aparece, aunque cada gráfico tenga label\n",
    "plt.xlabel('Eje x', color = 'green')\n",
    "plt.ylabel('Eje y', color = 'green')\n",
    "plt.show()"
   ]
  },
  {
   "cell_type": "markdown",
   "metadata": {},
   "source": [
    "Y no solo podemos gráficar vectores, sino también funciones que ya esten definidas en librerías como numpy, o en funciones que nosotros mismos programemos."
   ]
  },
  {
   "cell_type": "code",
   "execution_count": null,
   "metadata": {
    "code_folding": [
     0
    ]
   },
   "outputs": [],
   "source": [
    "# Graficando las funciones seno y coseno\n",
    "\n",
    "x = np.linspace(0,10,100)\n",
    "\n",
    "plt.plot(x, np.sin(x), label='Seno(x)', color = 'blue')\n",
    "plt.plot(x, np.cos(x), label='Coseno(x)', color = 'red', linestyle = ':')\n",
    "\n",
    "plt.xlabel('x', fontsize=15, color='green')\n",
    "plt.ylabel('f(x)', fontsize=15, color='green')\n",
    "plt.legend()\n",
    "plt.title('Graficando funciones') \n",
    "plt.grid() # Agrega una grilla de fondo\n",
    "plt.show()"
   ]
  },
  {
   "cell_type": "markdown",
   "metadata": {},
   "source": [
    "### 1.2 Múltiples gráficos\n",
    "\n",
    "Podemos utilizar la función **subplots** para poner varios gráficos en la misma figura, separando cada gráfico en su propio box de ejes."
   ]
  },
  {
   "cell_type": "code",
   "execution_count": null,
   "metadata": {
    "code_folding": [
     0
    ]
   },
   "outputs": [],
   "source": [
    "# Ejemplo de subplot\n",
    "\n",
    "# plt.rcParams['figure.dpi'] = 80\n",
    "fig, axes = plt.subplots(2, 3, figsize=(8, 5))\n",
    "plt.tight_layout()\n",
    "plt.show()"
   ]
  },
  {
   "cell_type": "markdown",
   "metadata": {},
   "source": [
    "Podemos manipular cada subgráfico haciendo referencia a la ubicación que ést tiene, tal como si fueran las coordenadas de una matriz (recordando que en Python la numeración comienza desde $0$). Es decir, el subgráfico ubicado en la fila $i$ y columna $j$ se encuentra como axes$[i,j]$, y se grafica como\n",
    "\n",
    "```Python\n",
    "axes[i, j].plot(x, y, atributos)\n",
    "```\n",
    "\n",
    "Además, se puede prescindir de un subgráfico en particular utilizando\n",
    "\n",
    "```Python\n",
    "axes[i, j].remove()\n",
    "```\n",
    "\n",
    "pero el espacio queda vacío, es decir, los demás subgráficos no se acomodan de forma automática."
   ]
  },
  {
   "cell_type": "code",
   "execution_count": null,
   "metadata": {},
   "outputs": [],
   "source": [
    "# Ejemplo de cómo manejra subplots individualmente\n",
    "x = np.linspace(-np.pi,np.pi,50)\n",
    "y1 = np.cos(x)\n",
    "y2 = np.sin(x)\n",
    "\n",
    "y4 = y1 + y2\n",
    "y5 = x ** 2\n",
    "y6 = x % 2\n",
    "\n",
    "# plt.rcParams['figure.dpi'] = 80\n",
    "fig, axes = plt.subplots(2, 3, figsize=(8, 5))\n",
    "axes[0,0].plot(x, y1, color = 'red', marker = '.', linestyle = '')\n",
    "axes[0,1].plot(x, y2, color = 'blue', marker = 'x', linestyle = ':')\n",
    "axes[0,2].remove()\n",
    "axes[1,0].plot(x, y4, color = 'green', marker = 'o', linestyle = '--')\n",
    "axes[1,1].plot(x, y5, color = 'black', marker = 'v', linestyle = '-.')\n",
    "axes[1,2].plot(x, y6, color = 'magenta', marker = '*', linestyle = '-')\n",
    "plt.tight_layout()\n",
    "plt.show()"
   ]
  },
  {
   "cell_type": "code",
   "execution_count": null,
   "metadata": {},
   "outputs": [],
   "source": []
  },
  {
   "cell_type": "markdown",
   "metadata": {},
   "source": [
    "¿Pero que pasa si quiero distintas cajas de distintos tamaños?\n",
    "Por ejemplo, los gráficos de barras y los gráficos circulares suelen ser muy diferentes en relación. En este caso, el diseño debe ser diferente; para esto se puede cambiar y manipular fácilmente el sistema de cuadrícula usando la función **subplot2grid**."
   ]
  },
  {
   "cell_type": "code",
   "execution_count": null,
   "metadata": {
    "code_folding": [
     0
    ]
   },
   "outputs": [],
   "source": [
    "# Manipulando subplots\n",
    "\n",
    "fig = plt.figure(figsize=(8, 5)) \n",
    "\n",
    "ax = [None for _ in range(6)] \n",
    "\n",
    "ax[0] = plt.subplot2grid((3,4), (0,0), colspan=4)\n",
    "ax[1] = plt.subplot2grid((3,4), (1,0), colspan=1)\n",
    "ax[2] = plt.subplot2grid((3,4), (1,1), colspan=1)\n",
    "ax[3] = plt.subplot2grid((3,4), (1,2), colspan=1)\n",
    "ax[4] = plt.subplot2grid((3,4), (1,3), colspan=1,rowspan=2)\n",
    "ax[5] = plt.subplot2grid((3,4), (2,0), colspan=3)\n",
    "\n",
    "\n",
    "for ix in range(6): \n",
    "    ax[ix].set_title('ax[{}]'.format(ix)) \n",
    "    ax[ix].set_xticks([])\n",
    "    ax[ix].set_yticks([]) \n",
    "    \n",
    "#fig.tight_layout()\n",
    "plt.show()"
   ]
  },
  {
   "cell_type": "markdown",
   "metadata": {},
   "source": [
    "### 1.3 Mapas de colores\n",
    "\n",
    "El color es una de las cosas más importantes en un gráfico. Por supuesto, el equipo de matplotlib ya ha creado una buena paleta de colores, y solo necesitamos usarla. Entre las 4 categorías más utilizadas de paletas de colores encontramos la **divergente**, la **cualitativa**, la **continua** y la **científica**.\n",
    "\n",
    "<hr>\n",
    "\n",
    " * <u>Mapa de colores **divergente**</u>\n",
    " \n",
    "     - Este mapa de colores se usa generalmente en visualizaciones donde la mediana es obvia.\n",
    " \n",
    "     - Generalmente se visualiza sobre un fondo blanco, blanco en el centro y de color más oscuro hacia ambos extremos. En otras palabras, cuanto más claro sea el valor, más cerca del centro, más oscuro, más cerca del final.\n",
    " \n",
    "     - Útil para expresar sesgo, como la correlación y la disposición política.\n",
    " \n",
    "     - Si bien es un mapa de colores continuo, también puede usar una paleta de colores discreta dependiendo del intervalo."
   ]
  },
  {
   "cell_type": "code",
   "execution_count": null,
   "metadata": {
    "code_folding": [
     0
    ]
   },
   "outputs": [],
   "source": [
    "# Función para plotear un colormap\n",
    "\n",
    "def cmap_plot(cmap_list, ctype):\n",
    "    cmaps = cmap_list\n",
    "\n",
    "    n = len(cmaps)\n",
    "\n",
    "    fig = plt.figure(figsize=(8.25, n*.20), dpi=150)\n",
    "    ax = plt.subplot(1, 1, 1, frameon=False, xlim=[0,10], xticks=[], yticks=[])\n",
    "    fig.subplots_adjust(top=0.99, bottom=0.01, left=0.18, right=0.99)\n",
    "\n",
    "    y, dy, pad = 0, 0.3, 0.08\n",
    "\n",
    "    ticks, labels = [], []\n",
    "\n",
    "    for cmap in cmaps[::-1]:\n",
    "        Z = np.linspace(0,1,512).reshape(1,512)\n",
    "        plt.imshow(Z, extent=[0,10,y,y+dy], cmap=plt.get_cmap(cmap))\n",
    "        ticks.append(y+dy/2)\n",
    "        labels.append(cmap)\n",
    "        y = y + dy + pad\n",
    "\n",
    "    ax.set_ylim(-pad,y)\n",
    "    ax.set_yticks(ticks)\n",
    "    ax.set_yticklabels(labels)\n",
    "\n",
    "    ax.tick_params(axis='y', which='both', length=0, labelsize=5)\n",
    "    plt.title(f'Colormap {ctype}', fontweight='bold', fontsize=8)\n",
    "    plt.show()"
   ]
  },
  {
   "cell_type": "code",
   "execution_count": null,
   "metadata": {
    "code_folding": [
     0
    ]
   },
   "outputs": [],
   "source": [
    "# Ploteando colormap divergente\n",
    "\n",
    "diverge_cmap = ('PRGn', 'PiYG', 'RdYlGn', 'BrBG', 'RdGy', 'PuOr', 'RdBu', 'RdYlBu',  'Spectral', 'coolwarm_r', 'bwr_r', 'seismic_r')\n",
    "cmap_plot(diverge_cmap, 'Divergente')"
   ]
  },
  {
   "cell_type": "markdown",
   "metadata": {},
   "source": [
    "* <u>Mapa de colores **cualitativo**</u>\n",
    " \n",
    "     - Una paleta de colores independientes, a menudo utilizada para variables categóricas.\n",
    " \n",
    "     - Se recomienda organizar hasta 10 colores y agrupar pequeñas categorías con otras.\n",
    " \n",
    "     - La repetición de colores puede ser confusa, así que trate de evitar la superposición lo más posible. Es una buena idea cambiar de color a color en lugar de saturación y brillo."
   ]
  },
  {
   "cell_type": "code",
   "execution_count": null,
   "metadata": {
    "code_folding": [
     0
    ]
   },
   "outputs": [],
   "source": [
    "# Ploteando colormap cualitativo\n",
    "\n",
    "qualitative_cmap = ('tab10', 'tab20', 'tab20b', 'tab20c', 'Pastel1', 'Pastel2', 'Paired', 'Set1', 'Set2', 'Set3', 'Accent', 'Dark2' )\n",
    "cmap_plot(qualitative_cmap, 'Cualitativo')"
   ]
  },
  {
   "cell_type": "markdown",
   "metadata": {},
   "source": [
    "* <u>Mapa de colores **continuo**</u>\n",
    " \n",
    "     - Esta paleta es apropiada para variables con números o valores ordenados.\n",
    " \n",
    "     - Usado mucho en comparación de cifras. Especialmente eficaz para expresar densidad. Aproveche los gráficos de mapas para una mejor visualización.\n",
    "     \n",
    "     - Similar a divergente, pero con una parte ligeramente diferente porque cada punto final es un criterio de color, no la mediana. Por lo general, indica que los valores de luz son oscuros en fondos oscuros y valores oscuros en fondos claros.\n",
    "     \n",
    "     - Se recomienda usar un solo tono para el color.\n",
    "     \n",
    "     - Al igual que la divergente, también se puede usar en forma discreta."
   ]
  },
  {
   "cell_type": "code",
   "execution_count": null,
   "metadata": {
    "code_folding": [
     0
    ]
   },
   "outputs": [],
   "source": [
    "# Ploteando colormap continuo\n",
    "\n",
    "sequential_cmap = ('Greys', 'Reds', 'Oranges', \n",
    "         'YlOrBr', 'YlOrRd', 'OrRd', 'PuRd', 'RdPu', 'BuPu',\n",
    "         'Purples', 'YlGnBu', 'Blues', 'PuBu', 'GnBu', 'PuBuGn', 'BuGn',\n",
    "         'Greens', 'YlGn','bone', 'gray', 'pink', 'afmhot', 'hot', 'gist_heat', 'copper', \n",
    "         'Wistia', 'autumn_r', 'summer_r', 'spring_r', 'cool', 'winter_r')            \n",
    "cmap_plot(sequential_cmap, 'Continuo')"
   ]
  },
  {
   "cell_type": "markdown",
   "metadata": {},
   "source": [
    " * <u>Mapa de colores **científico**</u>\n",
    " \n",
    "     - Utilizado en gráficos científicos."
   ]
  },
  {
   "cell_type": "code",
   "execution_count": null,
   "metadata": {
    "code_folding": [
     0
    ]
   },
   "outputs": [],
   "source": [
    "# Ploteando colormap científico\n",
    "\n",
    "scientific_cmap = ('viridis', 'plasma', 'inferno', 'magma')\n",
    "cmap_plot(scientific_cmap, 'científico')"
   ]
  },
  {
   "cell_type": "markdown",
   "metadata": {
    "code_folding": [
     0
    ]
   },
   "source": [
    "Para más ejemplos de gráficos utilizando MatplotLib recomendamos visitar el artículo <a href=\"https://nextjournal.com/sosiristseng/top-50-matplotlib-visualizations\">Top 50 Matplotlib visualizations</a>."
   ]
  },
  {
   "cell_type": "markdown",
   "metadata": {},
   "source": [
    "### 1.4 Sucesiones y funciones"
   ]
  },
  {
   "cell_type": "code",
   "execution_count": null,
   "metadata": {
    "code_folding": [
     0
    ]
   },
   "outputs": [],
   "source": [
    "%matplotlib notebook\n",
    "\n",
    "import experimento2 as ex2\n",
    "import matplotlib.pyplot as plt\n",
    "import numpy as np"
   ]
  },
  {
   "cell_type": "code",
   "execution_count": null,
   "metadata": {},
   "outputs": [],
   "source": [
    "x = [0, 1, 2, 3, 4, 5, 6, 7, 8, 9, 10]\n",
    "\n",
    "y1 = []\n",
    "y2 = []\n",
    "\n",
    "for i in x:\n",
    "\n",
    "    y1.append(ex2.tribonacci(i))\n",
    "    y2.append(ex2.lesera(i))\n"
   ]
  },
  {
   "cell_type": "code",
   "execution_count": null,
   "metadata": {},
   "outputs": [],
   "source": [
    "plt.plot(x, y1, label='Tribonacci', color = 'red', marker = 'x', linestyle = '--')\n",
    "plt.plot(x, y2, label='Lesera', color =  'blue', marker = '.', linestyle = '')\n",
    "plt.legend()\n",
    "plt.title('Sucesiones definidas de forma recursiva')\n",
    "plt.xlabel('Valor de n')\n",
    "plt.ylabel('Valor de $a_n$')\n",
    "plt.grid()\n",
    "plt.show()"
   ]
  },
  {
   "cell_type": "code",
   "execution_count": null,
   "metadata": {},
   "outputs": [],
   "source": [
    "n = 250\n",
    "numero_muestras = 10000\n",
    "\n",
    "x = np.linspace(-2, 2, numero_muestras)\n",
    "y = []\n",
    "for i in x:\n",
    "    y.append(ex2.weierstrass(n,i))\n"
   ]
  },
  {
   "cell_type": "code",
   "execution_count": null,
   "metadata": {},
   "outputs": [],
   "source": [
    "plt.plot(x, y, linewidth = 0.5)# Notar que el parámetro linewidth cambia el grosor de la línea\n",
    "plt.grid()\n",
    "plt.title('Función de Weierstrass')\n",
    "plt.show()"
   ]
  },
  {
   "cell_type": "markdown",
   "metadata": {},
   "source": [
    "**Ejercicio 1.** Supongamos que tenemos una figura en la cual agregamos las líneas destacadas\n",
    "\n",
    "```Python\n",
    "plt.plot(x,y)\n",
    "plt.xlim(??) # Esta\n",
    "plt.ylim(??) # Y esta\n",
    "plt.show()\n",
    "```\n",
    "\n",
    "¿Qué valores podemos ingresar, y qué efecto tienen en la figura? Consulte en la documentación, o directamente busque en Google \"pyplot xlim\" o \"pyplot ylim\", y pruebe con cualquiera de las funciones vistas en este Notebook.\n",
    "Con lo que encuentre, y escogiendo valores apropiados, haga un \"zoom\" a la figura anterior y observe que la función tiene comportamiento muy oscilatorio (casi fractal)."
   ]
  },
  {
   "cell_type": "code",
   "execution_count": null,
   "metadata": {},
   "outputs": [],
   "source": [
    "x = np.linspace(0,4,100)\n",
    "y = np.exp(-x) - x + 1\n",
    "plt.plot(x,y)\n",
    "plt.grid()\n",
    "plt.show()"
   ]
  },
  {
   "cell_type": "markdown",
   "metadata": {},
   "source": [
    "**Ejercicio 2.** Dada una función $f(x)$ definida en un intervalo $[a,b]$, si $f(a)$ y $f(b)$ tienen distinto signo, tiene que existir un valor $c$, con $a<c<b$, tal que $f(c)=0$ (éste es el Teorema del Valor Intermedio).\n",
    "\n",
    "Guiándose por el gráfico de arriba, intente dar un alogritmo para encontrar (o aproximar) el valor de $c$ en que $f(c)=0$. Si no puede o no sabe escribirlo en código, puede dar una idea basada en el dibujo."
   ]
  },
  {
   "cell_type": "code",
   "execution_count": null,
   "metadata": {},
   "outputs": [],
   "source": []
  },
  {
   "cell_type": "code",
   "execution_count": null,
   "metadata": {},
   "outputs": [],
   "source": []
  }
 ],
 "metadata": {
  "kernelspec": {
   "display_name": "Python 3",
   "language": "python",
   "name": "python3"
  },
  "language_info": {
   "codemirror_mode": {
    "name": "ipython",
    "version": 3
   },
   "file_extension": ".py",
   "mimetype": "text/x-python",
   "name": "python",
   "nbconvert_exporter": "python",
   "pygments_lexer": "ipython3",
   "version": "3.7.7"
  }
 },
 "nbformat": 4,
 "nbformat_minor": 4
}
