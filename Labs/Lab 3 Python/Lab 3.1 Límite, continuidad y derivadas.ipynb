{
 "cells": [
  {
   "cell_type": "markdown",
   "metadata": {},
   "source": [
    "<p><img alt=\"DataOwl\" width=150 src=\"http://gwsolutions.cl/Images/dataowl.png\", align=\"left\", hspace=0, vspace=5></p>\n",
    "\n",
    "<h1 align=\"center\">Límite, continuidad y derivadas</h1>\n",
    "\n",
    "<h4 align=\"center\">Funciones de una variable</h4>\n",
    "<pre><div align=\"center\"> La idea de este notebook es que sirva para iniciarse en conceptos \n",
    "matemáticos para resolver ecuaciones de una variable y derivadas.</div>"
   ]
  },
  {
   "cell_type": "markdown",
   "metadata": {},
   "source": [
    "## Cálculo\n",
    "\n",
    "\n",
    "El Cálculo es una de las áreas aplicadas del Análisis Real y Complejo, cuyo objetivo es entender las propiedades de objetos que toman valores en estos conjuntos, como las sucesiones y funciones.\n",
    "\n",
    "En modelamiento numérico, se puede utilizar la teoría de Cálculo de forma retroactiva con los métodos de visualización, ya que, por un lado, el hecho de conocer el comportamiento de un modelo debe verse ratificado por estimaciones numéricas y gráficos mientras que, por otro lado, un buen uso de herramientas gráficas podría permitir aproximarnos a características del modelo que no conocemos <i>a priori</i>.\n",
    "\n",
    "Para comenzar, introducimos el concepto de **límite** para luego definir **continuidad** de una función. Finalmente, construimos la noción de **derivada numérica**, y vemos qué ventajas y limitaciones presenta."
   ]
  },
  {
   "cell_type": "code",
   "execution_count": 1,
   "metadata": {
    "code_folding": [
     0
    ]
   },
   "outputs": [],
   "source": [
    "# Importando las librerías\n",
    "%matplotlib notebook\n",
    "\n",
    "import numpy as np\n",
    "import matplotlib.pyplot as plt\n"
   ]
  },
  {
   "cell_type": "markdown",
   "metadata": {},
   "source": [
    "## 1. Límite\n",
    "\n",
    "### 1.1 Límite de una sucesión\n",
    "\n",
    "Habíamos visto que Python permite definir sucesiones, ya sea de forma explícita o por recurrencia. En general, una **sucesión** es un conjunto de valores $a_0,\\ a_1,\\ldots\\ a_n,\\ldots$ que se puede denotar por $\\{a_n\\}_{n\\in\\mathbb{N}}$. En la práctica, resulta interesante estudiar el comportamiento de las sucesiones en rangos de valores $n$ acotados, o bien su **comportamiento asintótico**, si es que lo tiene. Se dice que una sucesión $\\{a_n\\}_{n\\in\\mathbb{N}}$ posee límite $L\\in\\mathbb{R}$ si\n",
    "\n",
    "$$(\\forall\\ \\varepsilon>0)(\\exists\\ n_0\\in\\mathbb{N})(\\forall\\ n\\ge n_0)\\ \\ |a_n-L|<\\varepsilon$$\n",
    "\n",
    "En caso de que este valor $L$ exista, es único, y se denota $$\\displaystyle\\lim_{n\\rightarrow\\infty}a_n=L$$\n",
    "\n",
    "Veremos qué significa esto, gráficamente.\n"
   ]
  },
  {
   "cell_type": "code",
   "execution_count": null,
   "metadata": {
    "code_folding": [
     0
    ]
   },
   "outputs": [],
   "source": [
    "fig1, ax1 = plt.subplots(3, 1, figsize=(8, 5))\n"
   ]
  },
  {
   "cell_type": "markdown",
   "metadata": {},
   "source": []
  },
  {
   "cell_type": "markdown",
   "metadata": {},
   "source": [
    "### 1.2 Límite de una función\n",
    "\n",
    "Del mismo modo en que se puede estudiar las sucesiones, ya sea en valores acotados o a nivel asintótico, es posible estudiar estructuras más generales, como las **funciones**.\n",
    "\n",
    "Una función $f$ puede verse como una asignación entre dos conjuntos, $f:\\ A\\longrightarrow B$, dada por $y=f(x)$, en que un elemento $x\\in A$ sufre una transformación para convertirse en un elemento $y\\in B$. En el caso de las sucesiones, éstas son funciones del estilo $f:\\ \\mathbb{N}\\longrightarrow\\mathbb{R}$, en que $a_n=f(n)$. Eso nos permite definirlas en Python como lo hemos estado haciendo.\n",
    "\n",
    "Decimos que una función $f$ es una **función real** si $f:\\ \\mathbb{R}\\longrightarrow\\mathbb{R}$. Desde el punto de vista algebraico, una función posee muchos atributos, como dominio y recorrido, paridad, inyectividad, epiyectividad (o sobreyectividad), invertibilidad, etc. Podemos ver algunos ejemplos de éstos, aunque no constituyen la parte importante de este capítulo. Si tienen interés en averiguar más sobre el significado de estos términos, pueden consutar al profesor o buscar en internet."
   ]
  },
  {
   "cell_type": "code",
   "execution_count": null,
   "metadata": {
    "code_folding": [
     0
    ]
   },
   "outputs": [],
   "source": [
    "fig2, ax2 = plt.subplots(3, 1, figsize=(8, 5))\n"
   ]
  },
  {
   "cell_type": "code",
   "execution_count": null,
   "metadata": {},
   "outputs": [],
   "source": []
  },
  {
   "cell_type": "markdown",
   "metadata": {},
   "source": [
    "Así como las sucesiones, las funciones reales tienen comportamiento interesante en intervalos acotados o a nivel asintótico, con la diferencia de que puede adoptar muchos más valores que una sucesión (aquí entra el concepto de cardinalidad de un conjunto, que no veremos). Es decir, puede ser interesante el comportamiento de una función tanto cuando su variable tiende a infinito, como cuando ésta tiende a un valor $x_0$ específico.\n",
    "\n",
    "Decimos que una función $f$ tiene límite $L\\in\\mathbb{R}$ cuando $x$ tiende a $x_0$ si\n",
    "\n",
    "$$(\\forall\\ \\varepsilon>0)(\\exists\\ \\delta>0)\\ |x-x_0|<\\delta\\ \\Longrightarrow\\ |f(x)-L|<\\varepsilon$$\n",
    "\n",
    "En caso de que este valor $L$ exista, es único, y se denota $$\\displaystyle\\lim_{x\\rightarrow x_0}f(x)=L$$\n",
    "\n",
    "Del mismo modo, decimos que una función $f$ tiene límite $L\\in\\mathbb{R}$ cuando $x$ tiende a infinito si\n",
    "\n",
    "$$(\\forall\\ \\varepsilon>0)(\\exists\\ M>0)(\\forall\\ x>M)\\ |f(x)-L|<\\varepsilon$$\n",
    "\n",
    "En caso de que este valor $L$ exista, es único, y se denota $$\\displaystyle\\lim_{x\\rightarrow\\infty}f(x)=L$$\n",
    "\n",
    "Veremos algunos ejemplos en que se puede reconocer la existencia de un límite.\n"
   ]
  },
  {
   "cell_type": "code",
   "execution_count": null,
   "metadata": {},
   "outputs": [],
   "source": []
  },
  {
   "cell_type": "markdown",
   "metadata": {},
   "source": [
    "## 2. Continuidad\n",
    "\n",
    "La continuidad de una función, esquemáticamente, se refiere al hecho de que la curva definida por ésta no dé \"saltos\", en el sentido de que la curva no está cortada en segmentos. Al respecto, hay términos más complejos implicados, como los límites laterales. Sin embargo, veremos que visualmente es relativamente sencillo tener una idea de la continuidad de una función $f$.\n",
    "\n",
    "Teniendo en cuenta que los computadores tienen limitaciones evidentes (por ejemplo, no pueden realizar infinitas evaluaciones de una función), podemos sacar ventaja de dichas limitaciones para conformarnos con aproximaciones. Usando los conceptos vistos para límite, podemos tener una idea bastante buena de qué límite tiene, aproximadamente, una función cuando su variable tiende a algún valor.\n",
    "\n",
    "Siendo más concretos, una función $f$ se dice continua en un punto $x_0$ si $\\displaystyle\\lim_{x\\rightarrow x_0}f(x)$ existe. Si es el caso, dicho límite puede ser denotado por $f(x_0)$. No obstante, un computador puede no poder evaluar de esta forma una función, por lo que la aproximación no sólo es una herramienta suficientemente buena, sino que, en verdad, no tenemos más alternativa."
   ]
  },
  {
   "cell_type": "code",
   "execution_count": null,
   "metadata": {
    "code_folding": [
     0
    ]
   },
   "outputs": [],
   "source": []
  },
  {
   "cell_type": "code",
   "execution_count": null,
   "metadata": {},
   "outputs": [],
   "source": []
  },
  {
   "cell_type": "code",
   "execution_count": null,
   "metadata": {
    "code_folding": [
     0
    ]
   },
   "outputs": [],
   "source": []
  },
  {
   "cell_type": "markdown",
   "metadata": {},
   "source": [
    "## 2. Derivadas\n",
    "\n",
    "Esta última sección la veremos con poco detalle, pues requiere algunos conocimientos previos en límites conocidos. Pero asumiremos que esto es aún poco necesario, e introducimos e"
   ]
  },
  {
   "cell_type": "code",
   "execution_count": null,
   "metadata": {
    "code_folding": [
     0
    ]
   },
   "outputs": [],
   "source": []
  },
  {
   "cell_type": "markdown",
   "metadata": {},
   "source": []
  },
  {
   "cell_type": "code",
   "execution_count": null,
   "metadata": {
    "code_folding": [
     0
    ]
   },
   "outputs": [],
   "source": []
  },
  {
   "cell_type": "markdown",
   "metadata": {},
   "source": []
  },
  {
   "cell_type": "code",
   "execution_count": null,
   "metadata": {
    "code_folding": [
     0
    ]
   },
   "outputs": [],
   "source": []
  },
  {
   "cell_type": "markdown",
   "metadata": {},
   "source": []
  },
  {
   "cell_type": "code",
   "execution_count": null,
   "metadata": {},
   "outputs": [],
   "source": []
  },
  {
   "cell_type": "code",
   "execution_count": null,
   "metadata": {},
   "outputs": [],
   "source": []
  },
  {
   "cell_type": "markdown",
   "metadata": {},
   "source": []
  },
  {
   "cell_type": "code",
   "execution_count": null,
   "metadata": {
    "code_folding": [
     0
    ]
   },
   "outputs": [],
   "source": []
  },
  {
   "cell_type": "markdown",
   "metadata": {},
   "source": []
  },
  {
   "cell_type": "code",
   "execution_count": null,
   "metadata": {
    "code_folding": [
     0
    ]
   },
   "outputs": [],
   "source": []
  },
  {
   "cell_type": "code",
   "execution_count": null,
   "metadata": {
    "code_folding": [
     0
    ]
   },
   "outputs": [],
   "source": []
  },
  {
   "cell_type": "markdown",
   "metadata": {},
   "source": []
  },
  {
   "cell_type": "code",
   "execution_count": null,
   "metadata": {
    "code_folding": [
     0
    ]
   },
   "outputs": [],
   "source": []
  },
  {
   "cell_type": "markdown",
   "metadata": {},
   "source": []
  },
  {
   "cell_type": "code",
   "execution_count": null,
   "metadata": {
    "code_folding": [
     0
    ]
   },
   "outputs": [],
   "source": []
  },
  {
   "cell_type": "markdown",
   "metadata": {},
   "source": []
  },
  {
   "cell_type": "code",
   "execution_count": null,
   "metadata": {
    "code_folding": [
     0
    ]
   },
   "outputs": [],
   "source": []
  },
  {
   "cell_type": "markdown",
   "metadata": {
    "code_folding": [
     0
    ]
   },
   "source": []
  },
  {
   "cell_type": "markdown",
   "metadata": {},
   "source": []
  },
  {
   "cell_type": "code",
   "execution_count": 9,
   "metadata": {
    "code_folding": [
     0
    ]
   },
   "outputs": [],
   "source": []
  },
  {
   "cell_type": "code",
   "execution_count": 18,
   "metadata": {},
   "outputs": [],
   "source": []
  },
  {
   "cell_type": "code",
   "execution_count": null,
   "metadata": {},
   "outputs": [],
   "source": []
  },
  {
   "cell_type": "code",
   "execution_count": 25,
   "metadata": {},
   "outputs": [],
   "source": []
  },
  {
   "cell_type": "code",
   "execution_count": null,
   "metadata": {},
   "outputs": [],
   "source": []
  },
  {
   "cell_type": "markdown",
   "metadata": {},
   "source": []
  },
  {
   "cell_type": "code",
   "execution_count": null,
   "metadata": {},
   "outputs": [],
   "source": []
  },
  {
   "cell_type": "markdown",
   "metadata": {},
   "source": []
  },
  {
   "cell_type": "code",
   "execution_count": null,
   "metadata": {},
   "outputs": [],
   "source": []
  },
  {
   "cell_type": "code",
   "execution_count": null,
   "metadata": {},
   "outputs": [],
   "source": []
  }
 ],
 "metadata": {
  "kernelspec": {
   "display_name": "Python 3",
   "language": "python",
   "name": "python3"
  },
  "language_info": {
   "codemirror_mode": {
    "name": "ipython",
    "version": 3
   },
   "file_extension": ".py",
   "mimetype": "text/x-python",
   "name": "python",
   "nbconvert_exporter": "python",
   "pygments_lexer": "ipython3",
   "version": "3.7.7"
  }
 },
 "nbformat": 4,
 "nbformat_minor": 4
}
